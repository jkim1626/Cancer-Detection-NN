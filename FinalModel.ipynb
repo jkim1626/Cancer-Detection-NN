{
  "cells": [
    {
      "cell_type": "markdown",
      "id": "a61df602-1110-4cda-8d43-a992708137fd",
      "metadata": {
        "id": "a61df602-1110-4cda-8d43-a992708137fd"
      },
      "source": [
        "*Final project assignment for Machine Learning (Math M156) UCLA by Amit Rand and Jonathon Kim.*"
      ]
    },
    {
      "cell_type": "markdown",
      "id": "ca7b0538-f111-402f-bb19-e44247e13d3d",
      "metadata": {
        "id": "ca7b0538-f111-402f-bb19-e44247e13d3d"
      },
      "source": [
        "# Import Libraries, Functions, and Data"
      ]
    },
    {
      "cell_type": "markdown",
      "id": "3cf84dc9-d425-415e-9e36-4cf70d2a2217",
      "metadata": {
        "id": "3cf84dc9-d425-415e-9e36-4cf70d2a2217"
      },
      "source": [
        "Include all necessary imports related to data preprocessing and exploratory data anaylsis."
      ]
    },
    {
      "cell_type": "code",
      "execution_count": 1,
      "id": "3e3ad182-0f26-4b3f-8a8a-467a8a2b2663",
      "metadata": {
        "id": "3e3ad182-0f26-4b3f-8a8a-467a8a2b2663"
      },
      "outputs": [],
      "source": [
        "# imports\n",
        "import pandas as pd\n",
        "import numpy as np\n",
        "import matplotlib.pyplot as plt\n",
        "from sklearn.model_selection import train_test_split\n",
        "from sklearn.preprocessing import StandardScaler\n",
        "from scipy.stats import zscore\n",
        "from sklearn.linear_model import LogisticRegression\n",
        "from sklearn.tree import DecisionTreeRegressor, DecisionTreeClassifier\n",
        "from sklearn.ensemble import RandomForestRegressor, RandomForestClassifier\n",
        "from sklearn.ensemble import GradientBoostingRegressor, GradientBoostingClassifier\n",
        "from sklearn.svm import SVR, SVC\n",
        "from sklearn.neighbors import KNeighborsRegressor, KNeighborsClassifier\n",
        "from sklearn.naive_bayes import GaussianNB\n",
        "from sklearn.metrics import accuracy_score, classification_report"
      ]
    },
    {
      "cell_type": "markdown",
      "id": "120dd392-5b00-4ccc-9a44-50538f845887",
      "metadata": {
        "id": "120dd392-5b00-4ccc-9a44-50538f845887"
      },
      "source": [
        "Load in the data containing clinical information pertaining to Cancer downloaded from Kaggle. Once the data has been read in, display the shape and the first/last rows to get a general hollistic idea of the data. Split the data into X (user data -features) and y (diagnosis - targets.)"
      ]
    },
    {
      "cell_type": "code",
      "execution_count": 2,
      "id": "a00946b5-fa8e-49db-8120-cbe3ae753558",
      "metadata": {
        "colab": {
          "base_uri": "https://localhost:8080/",
          "height": 441
        },
        "id": "a00946b5-fa8e-49db-8120-cbe3ae753558",
        "outputId": "de646c11-8ea8-472e-f80f-728ede0f276c"
      },
      "outputs": [
        {
          "output_type": "stream",
          "name": "stdout",
          "text": [
            "(1500, 9)\n"
          ]
        },
        {
          "output_type": "display_data",
          "data": {
            "text/plain": [
              "      Age  Gender        BMI  Smoking  GeneticRisk  PhysicalActivity  \\\n",
              "0      58       1  16.085313        0            1          8.146251   \n",
              "1      71       0  30.828784        0            1          9.361630   \n",
              "2      48       1  38.785084        0            2          5.135179   \n",
              "3      34       0  30.040296        0            0          9.502792   \n",
              "4      62       1  35.479721        0            0          5.356890   \n",
              "...   ...     ...        ...      ...          ...               ...   \n",
              "1495   62       1  25.090025        0            0          9.892167   \n",
              "1496   31       0  33.447125        0            1          1.668297   \n",
              "1497   63       1  32.613861        1            1          0.466848   \n",
              "1498   55       0  25.568216        0            0          7.795317   \n",
              "1499   67       1  23.663104        0            0          2.525860   \n",
              "\n",
              "      AlcoholIntake  CancerHistory  Diagnosis  \n",
              "0          4.148219              1          1  \n",
              "1          3.519683              0          0  \n",
              "2          4.728368              0          1  \n",
              "3          2.044636              0          0  \n",
              "4          3.309849              0          1  \n",
              "...             ...            ...        ...  \n",
              "1495       1.284158              0          1  \n",
              "1496       2.280636              1          1  \n",
              "1497       0.150101              0          1  \n",
              "1498       1.986138              1          1  \n",
              "1499       2.856600              1          0  \n",
              "\n",
              "[1500 rows x 9 columns]"
            ],
            "text/html": [
              "\n",
              "  <div id=\"df-70513ae0-454b-46cf-b679-2cbe30c0f298\" class=\"colab-df-container\">\n",
              "    <div>\n",
              "<style scoped>\n",
              "    .dataframe tbody tr th:only-of-type {\n",
              "        vertical-align: middle;\n",
              "    }\n",
              "\n",
              "    .dataframe tbody tr th {\n",
              "        vertical-align: top;\n",
              "    }\n",
              "\n",
              "    .dataframe thead th {\n",
              "        text-align: right;\n",
              "    }\n",
              "</style>\n",
              "<table border=\"1\" class=\"dataframe\">\n",
              "  <thead>\n",
              "    <tr style=\"text-align: right;\">\n",
              "      <th></th>\n",
              "      <th>Age</th>\n",
              "      <th>Gender</th>\n",
              "      <th>BMI</th>\n",
              "      <th>Smoking</th>\n",
              "      <th>GeneticRisk</th>\n",
              "      <th>PhysicalActivity</th>\n",
              "      <th>AlcoholIntake</th>\n",
              "      <th>CancerHistory</th>\n",
              "      <th>Diagnosis</th>\n",
              "    </tr>\n",
              "  </thead>\n",
              "  <tbody>\n",
              "    <tr>\n",
              "      <th>0</th>\n",
              "      <td>58</td>\n",
              "      <td>1</td>\n",
              "      <td>16.085313</td>\n",
              "      <td>0</td>\n",
              "      <td>1</td>\n",
              "      <td>8.146251</td>\n",
              "      <td>4.148219</td>\n",
              "      <td>1</td>\n",
              "      <td>1</td>\n",
              "    </tr>\n",
              "    <tr>\n",
              "      <th>1</th>\n",
              "      <td>71</td>\n",
              "      <td>0</td>\n",
              "      <td>30.828784</td>\n",
              "      <td>0</td>\n",
              "      <td>1</td>\n",
              "      <td>9.361630</td>\n",
              "      <td>3.519683</td>\n",
              "      <td>0</td>\n",
              "      <td>0</td>\n",
              "    </tr>\n",
              "    <tr>\n",
              "      <th>2</th>\n",
              "      <td>48</td>\n",
              "      <td>1</td>\n",
              "      <td>38.785084</td>\n",
              "      <td>0</td>\n",
              "      <td>2</td>\n",
              "      <td>5.135179</td>\n",
              "      <td>4.728368</td>\n",
              "      <td>0</td>\n",
              "      <td>1</td>\n",
              "    </tr>\n",
              "    <tr>\n",
              "      <th>3</th>\n",
              "      <td>34</td>\n",
              "      <td>0</td>\n",
              "      <td>30.040296</td>\n",
              "      <td>0</td>\n",
              "      <td>0</td>\n",
              "      <td>9.502792</td>\n",
              "      <td>2.044636</td>\n",
              "      <td>0</td>\n",
              "      <td>0</td>\n",
              "    </tr>\n",
              "    <tr>\n",
              "      <th>4</th>\n",
              "      <td>62</td>\n",
              "      <td>1</td>\n",
              "      <td>35.479721</td>\n",
              "      <td>0</td>\n",
              "      <td>0</td>\n",
              "      <td>5.356890</td>\n",
              "      <td>3.309849</td>\n",
              "      <td>0</td>\n",
              "      <td>1</td>\n",
              "    </tr>\n",
              "    <tr>\n",
              "      <th>...</th>\n",
              "      <td>...</td>\n",
              "      <td>...</td>\n",
              "      <td>...</td>\n",
              "      <td>...</td>\n",
              "      <td>...</td>\n",
              "      <td>...</td>\n",
              "      <td>...</td>\n",
              "      <td>...</td>\n",
              "      <td>...</td>\n",
              "    </tr>\n",
              "    <tr>\n",
              "      <th>1495</th>\n",
              "      <td>62</td>\n",
              "      <td>1</td>\n",
              "      <td>25.090025</td>\n",
              "      <td>0</td>\n",
              "      <td>0</td>\n",
              "      <td>9.892167</td>\n",
              "      <td>1.284158</td>\n",
              "      <td>0</td>\n",
              "      <td>1</td>\n",
              "    </tr>\n",
              "    <tr>\n",
              "      <th>1496</th>\n",
              "      <td>31</td>\n",
              "      <td>0</td>\n",
              "      <td>33.447125</td>\n",
              "      <td>0</td>\n",
              "      <td>1</td>\n",
              "      <td>1.668297</td>\n",
              "      <td>2.280636</td>\n",
              "      <td>1</td>\n",
              "      <td>1</td>\n",
              "    </tr>\n",
              "    <tr>\n",
              "      <th>1497</th>\n",
              "      <td>63</td>\n",
              "      <td>1</td>\n",
              "      <td>32.613861</td>\n",
              "      <td>1</td>\n",
              "      <td>1</td>\n",
              "      <td>0.466848</td>\n",
              "      <td>0.150101</td>\n",
              "      <td>0</td>\n",
              "      <td>1</td>\n",
              "    </tr>\n",
              "    <tr>\n",
              "      <th>1498</th>\n",
              "      <td>55</td>\n",
              "      <td>0</td>\n",
              "      <td>25.568216</td>\n",
              "      <td>0</td>\n",
              "      <td>0</td>\n",
              "      <td>7.795317</td>\n",
              "      <td>1.986138</td>\n",
              "      <td>1</td>\n",
              "      <td>1</td>\n",
              "    </tr>\n",
              "    <tr>\n",
              "      <th>1499</th>\n",
              "      <td>67</td>\n",
              "      <td>1</td>\n",
              "      <td>23.663104</td>\n",
              "      <td>0</td>\n",
              "      <td>0</td>\n",
              "      <td>2.525860</td>\n",
              "      <td>2.856600</td>\n",
              "      <td>1</td>\n",
              "      <td>0</td>\n",
              "    </tr>\n",
              "  </tbody>\n",
              "</table>\n",
              "<p>1500 rows × 9 columns</p>\n",
              "</div>\n",
              "    <div class=\"colab-df-buttons\">\n",
              "\n",
              "  <div class=\"colab-df-container\">\n",
              "    <button class=\"colab-df-convert\" onclick=\"convertToInteractive('df-70513ae0-454b-46cf-b679-2cbe30c0f298')\"\n",
              "            title=\"Convert this dataframe to an interactive table.\"\n",
              "            style=\"display:none;\">\n",
              "\n",
              "  <svg xmlns=\"http://www.w3.org/2000/svg\" height=\"24px\" viewBox=\"0 -960 960 960\">\n",
              "    <path d=\"M120-120v-720h720v720H120Zm60-500h600v-160H180v160Zm220 220h160v-160H400v160Zm0 220h160v-160H400v160ZM180-400h160v-160H180v160Zm440 0h160v-160H620v160ZM180-180h160v-160H180v160Zm440 0h160v-160H620v160Z\"/>\n",
              "  </svg>\n",
              "    </button>\n",
              "\n",
              "  <style>\n",
              "    .colab-df-container {\n",
              "      display:flex;\n",
              "      gap: 12px;\n",
              "    }\n",
              "\n",
              "    .colab-df-convert {\n",
              "      background-color: #E8F0FE;\n",
              "      border: none;\n",
              "      border-radius: 50%;\n",
              "      cursor: pointer;\n",
              "      display: none;\n",
              "      fill: #1967D2;\n",
              "      height: 32px;\n",
              "      padding: 0 0 0 0;\n",
              "      width: 32px;\n",
              "    }\n",
              "\n",
              "    .colab-df-convert:hover {\n",
              "      background-color: #E2EBFA;\n",
              "      box-shadow: 0px 1px 2px rgba(60, 64, 67, 0.3), 0px 1px 3px 1px rgba(60, 64, 67, 0.15);\n",
              "      fill: #174EA6;\n",
              "    }\n",
              "\n",
              "    .colab-df-buttons div {\n",
              "      margin-bottom: 4px;\n",
              "    }\n",
              "\n",
              "    [theme=dark] .colab-df-convert {\n",
              "      background-color: #3B4455;\n",
              "      fill: #D2E3FC;\n",
              "    }\n",
              "\n",
              "    [theme=dark] .colab-df-convert:hover {\n",
              "      background-color: #434B5C;\n",
              "      box-shadow: 0px 1px 3px 1px rgba(0, 0, 0, 0.15);\n",
              "      filter: drop-shadow(0px 1px 2px rgba(0, 0, 0, 0.3));\n",
              "      fill: #FFFFFF;\n",
              "    }\n",
              "  </style>\n",
              "\n",
              "    <script>\n",
              "      const buttonEl =\n",
              "        document.querySelector('#df-70513ae0-454b-46cf-b679-2cbe30c0f298 button.colab-df-convert');\n",
              "      buttonEl.style.display =\n",
              "        google.colab.kernel.accessAllowed ? 'block' : 'none';\n",
              "\n",
              "      async function convertToInteractive(key) {\n",
              "        const element = document.querySelector('#df-70513ae0-454b-46cf-b679-2cbe30c0f298');\n",
              "        const dataTable =\n",
              "          await google.colab.kernel.invokeFunction('convertToInteractive',\n",
              "                                                    [key], {});\n",
              "        if (!dataTable) return;\n",
              "\n",
              "        const docLinkHtml = 'Like what you see? Visit the ' +\n",
              "          '<a target=\"_blank\" href=https://colab.research.google.com/notebooks/data_table.ipynb>data table notebook</a>'\n",
              "          + ' to learn more about interactive tables.';\n",
              "        element.innerHTML = '';\n",
              "        dataTable['output_type'] = 'display_data';\n",
              "        await google.colab.output.renderOutput(dataTable, element);\n",
              "        const docLink = document.createElement('div');\n",
              "        docLink.innerHTML = docLinkHtml;\n",
              "        element.appendChild(docLink);\n",
              "      }\n",
              "    </script>\n",
              "  </div>\n",
              "\n",
              "\n",
              "<div id=\"df-5899e5c1-5b5e-431f-a052-f3f130e54e0e\">\n",
              "  <button class=\"colab-df-quickchart\" onclick=\"quickchart('df-5899e5c1-5b5e-431f-a052-f3f130e54e0e')\"\n",
              "            title=\"Suggest charts\"\n",
              "            style=\"display:none;\">\n",
              "\n",
              "<svg xmlns=\"http://www.w3.org/2000/svg\" height=\"24px\"viewBox=\"0 0 24 24\"\n",
              "     width=\"24px\">\n",
              "    <g>\n",
              "        <path d=\"M19 3H5c-1.1 0-2 .9-2 2v14c0 1.1.9 2 2 2h14c1.1 0 2-.9 2-2V5c0-1.1-.9-2-2-2zM9 17H7v-7h2v7zm4 0h-2V7h2v10zm4 0h-2v-4h2v4z\"/>\n",
              "    </g>\n",
              "</svg>\n",
              "  </button>\n",
              "\n",
              "<style>\n",
              "  .colab-df-quickchart {\n",
              "      --bg-color: #E8F0FE;\n",
              "      --fill-color: #1967D2;\n",
              "      --hover-bg-color: #E2EBFA;\n",
              "      --hover-fill-color: #174EA6;\n",
              "      --disabled-fill-color: #AAA;\n",
              "      --disabled-bg-color: #DDD;\n",
              "  }\n",
              "\n",
              "  [theme=dark] .colab-df-quickchart {\n",
              "      --bg-color: #3B4455;\n",
              "      --fill-color: #D2E3FC;\n",
              "      --hover-bg-color: #434B5C;\n",
              "      --hover-fill-color: #FFFFFF;\n",
              "      --disabled-bg-color: #3B4455;\n",
              "      --disabled-fill-color: #666;\n",
              "  }\n",
              "\n",
              "  .colab-df-quickchart {\n",
              "    background-color: var(--bg-color);\n",
              "    border: none;\n",
              "    border-radius: 50%;\n",
              "    cursor: pointer;\n",
              "    display: none;\n",
              "    fill: var(--fill-color);\n",
              "    height: 32px;\n",
              "    padding: 0;\n",
              "    width: 32px;\n",
              "  }\n",
              "\n",
              "  .colab-df-quickchart:hover {\n",
              "    background-color: var(--hover-bg-color);\n",
              "    box-shadow: 0 1px 2px rgba(60, 64, 67, 0.3), 0 1px 3px 1px rgba(60, 64, 67, 0.15);\n",
              "    fill: var(--button-hover-fill-color);\n",
              "  }\n",
              "\n",
              "  .colab-df-quickchart-complete:disabled,\n",
              "  .colab-df-quickchart-complete:disabled:hover {\n",
              "    background-color: var(--disabled-bg-color);\n",
              "    fill: var(--disabled-fill-color);\n",
              "    box-shadow: none;\n",
              "  }\n",
              "\n",
              "  .colab-df-spinner {\n",
              "    border: 2px solid var(--fill-color);\n",
              "    border-color: transparent;\n",
              "    border-bottom-color: var(--fill-color);\n",
              "    animation:\n",
              "      spin 1s steps(1) infinite;\n",
              "  }\n",
              "\n",
              "  @keyframes spin {\n",
              "    0% {\n",
              "      border-color: transparent;\n",
              "      border-bottom-color: var(--fill-color);\n",
              "      border-left-color: var(--fill-color);\n",
              "    }\n",
              "    20% {\n",
              "      border-color: transparent;\n",
              "      border-left-color: var(--fill-color);\n",
              "      border-top-color: var(--fill-color);\n",
              "    }\n",
              "    30% {\n",
              "      border-color: transparent;\n",
              "      border-left-color: var(--fill-color);\n",
              "      border-top-color: var(--fill-color);\n",
              "      border-right-color: var(--fill-color);\n",
              "    }\n",
              "    40% {\n",
              "      border-color: transparent;\n",
              "      border-right-color: var(--fill-color);\n",
              "      border-top-color: var(--fill-color);\n",
              "    }\n",
              "    60% {\n",
              "      border-color: transparent;\n",
              "      border-right-color: var(--fill-color);\n",
              "    }\n",
              "    80% {\n",
              "      border-color: transparent;\n",
              "      border-right-color: var(--fill-color);\n",
              "      border-bottom-color: var(--fill-color);\n",
              "    }\n",
              "    90% {\n",
              "      border-color: transparent;\n",
              "      border-bottom-color: var(--fill-color);\n",
              "    }\n",
              "  }\n",
              "</style>\n",
              "\n",
              "  <script>\n",
              "    async function quickchart(key) {\n",
              "      const quickchartButtonEl =\n",
              "        document.querySelector('#' + key + ' button');\n",
              "      quickchartButtonEl.disabled = true;  // To prevent multiple clicks.\n",
              "      quickchartButtonEl.classList.add('colab-df-spinner');\n",
              "      try {\n",
              "        const charts = await google.colab.kernel.invokeFunction(\n",
              "            'suggestCharts', [key], {});\n",
              "      } catch (error) {\n",
              "        console.error('Error during call to suggestCharts:', error);\n",
              "      }\n",
              "      quickchartButtonEl.classList.remove('colab-df-spinner');\n",
              "      quickchartButtonEl.classList.add('colab-df-quickchart-complete');\n",
              "    }\n",
              "    (() => {\n",
              "      let quickchartButtonEl =\n",
              "        document.querySelector('#df-5899e5c1-5b5e-431f-a052-f3f130e54e0e button');\n",
              "      quickchartButtonEl.style.display =\n",
              "        google.colab.kernel.accessAllowed ? 'block' : 'none';\n",
              "    })();\n",
              "  </script>\n",
              "</div>\n",
              "\n",
              "  <div id=\"id_04880b1d-c1ae-4bf0-ab03-1b76b1c85b6d\">\n",
              "    <style>\n",
              "      .colab-df-generate {\n",
              "        background-color: #E8F0FE;\n",
              "        border: none;\n",
              "        border-radius: 50%;\n",
              "        cursor: pointer;\n",
              "        display: none;\n",
              "        fill: #1967D2;\n",
              "        height: 32px;\n",
              "        padding: 0 0 0 0;\n",
              "        width: 32px;\n",
              "      }\n",
              "\n",
              "      .colab-df-generate:hover {\n",
              "        background-color: #E2EBFA;\n",
              "        box-shadow: 0px 1px 2px rgba(60, 64, 67, 0.3), 0px 1px 3px 1px rgba(60, 64, 67, 0.15);\n",
              "        fill: #174EA6;\n",
              "      }\n",
              "\n",
              "      [theme=dark] .colab-df-generate {\n",
              "        background-color: #3B4455;\n",
              "        fill: #D2E3FC;\n",
              "      }\n",
              "\n",
              "      [theme=dark] .colab-df-generate:hover {\n",
              "        background-color: #434B5C;\n",
              "        box-shadow: 0px 1px 3px 1px rgba(0, 0, 0, 0.15);\n",
              "        filter: drop-shadow(0px 1px 2px rgba(0, 0, 0, 0.3));\n",
              "        fill: #FFFFFF;\n",
              "      }\n",
              "    </style>\n",
              "    <button class=\"colab-df-generate\" onclick=\"generateWithVariable('data')\"\n",
              "            title=\"Generate code using this dataframe.\"\n",
              "            style=\"display:none;\">\n",
              "\n",
              "  <svg xmlns=\"http://www.w3.org/2000/svg\" height=\"24px\"viewBox=\"0 0 24 24\"\n",
              "       width=\"24px\">\n",
              "    <path d=\"M7,19H8.4L18.45,9,17,7.55,7,17.6ZM5,21V16.75L18.45,3.32a2,2,0,0,1,2.83,0l1.4,1.43a1.91,1.91,0,0,1,.58,1.4,1.91,1.91,0,0,1-.58,1.4L9.25,21ZM18.45,9,17,7.55Zm-12,3A5.31,5.31,0,0,0,4.9,8.1,5.31,5.31,0,0,0,1,6.5,5.31,5.31,0,0,0,4.9,4.9,5.31,5.31,0,0,0,6.5,1,5.31,5.31,0,0,0,8.1,4.9,5.31,5.31,0,0,0,12,6.5,5.46,5.46,0,0,0,6.5,12Z\"/>\n",
              "  </svg>\n",
              "    </button>\n",
              "    <script>\n",
              "      (() => {\n",
              "      const buttonEl =\n",
              "        document.querySelector('#id_04880b1d-c1ae-4bf0-ab03-1b76b1c85b6d button.colab-df-generate');\n",
              "      buttonEl.style.display =\n",
              "        google.colab.kernel.accessAllowed ? 'block' : 'none';\n",
              "\n",
              "      buttonEl.onclick = () => {\n",
              "        google.colab.notebook.generateWithVariable('data');\n",
              "      }\n",
              "      })();\n",
              "    </script>\n",
              "  </div>\n",
              "\n",
              "    </div>\n",
              "  </div>\n"
            ],
            "application/vnd.google.colaboratory.intrinsic+json": {
              "type": "dataframe",
              "variable_name": "data",
              "summary": "{\n  \"name\": \"data\",\n  \"rows\": 1500,\n  \"fields\": [\n    {\n      \"column\": \"Age\",\n      \"properties\": {\n        \"dtype\": \"number\",\n        \"std\": 17,\n        \"min\": 20,\n        \"max\": 80,\n        \"num_unique_values\": 61,\n        \"samples\": [\n          58,\n          27,\n          36\n        ],\n        \"semantic_type\": \"\",\n        \"description\": \"\"\n      }\n    },\n    {\n      \"column\": \"Gender\",\n      \"properties\": {\n        \"dtype\": \"number\",\n        \"std\": 0,\n        \"min\": 0,\n        \"max\": 1,\n        \"num_unique_values\": 2,\n        \"samples\": [\n          0,\n          1\n        ],\n        \"semantic_type\": \"\",\n        \"description\": \"\"\n      }\n    },\n    {\n      \"column\": \"BMI\",\n      \"properties\": {\n        \"dtype\": \"number\",\n        \"std\": 7.23001204664845,\n        \"min\": 15.000290868884154,\n        \"max\": 39.95868778482374,\n        \"num_unique_values\": 1500,\n        \"samples\": [\n          30.193803056318064,\n          33.54740817396788\n        ],\n        \"semantic_type\": \"\",\n        \"description\": \"\"\n      }\n    },\n    {\n      \"column\": \"Smoking\",\n      \"properties\": {\n        \"dtype\": \"number\",\n        \"std\": 0,\n        \"min\": 0,\n        \"max\": 1,\n        \"num_unique_values\": 2,\n        \"samples\": [\n          1,\n          0\n        ],\n        \"semantic_type\": \"\",\n        \"description\": \"\"\n      }\n    },\n    {\n      \"column\": \"GeneticRisk\",\n      \"properties\": {\n        \"dtype\": \"number\",\n        \"std\": 0,\n        \"min\": 0,\n        \"max\": 2,\n        \"num_unique_values\": 3,\n        \"samples\": [\n          1,\n          2\n        ],\n        \"semantic_type\": \"\",\n        \"description\": \"\"\n      }\n    },\n    {\n      \"column\": \"PhysicalActivity\",\n      \"properties\": {\n        \"dtype\": \"number\",\n        \"std\": 2.8661619896466437,\n        \"min\": 0.0024100468513454,\n        \"max\": 9.994606810596732,\n        \"num_unique_values\": 1500,\n        \"samples\": [\n          7.111218170152859,\n          3.0476091279732573\n        ],\n        \"semantic_type\": \"\",\n        \"description\": \"\"\n      }\n    },\n    {\n      \"column\": \"AlcoholIntake\",\n      \"properties\": {\n        \"dtype\": \"number\",\n        \"std\": 1.4193177721662107,\n        \"min\": 0.0012146721725636,\n        \"max\": 4.9871146952677705,\n        \"num_unique_values\": 1500,\n        \"samples\": [\n          2.770848608055001,\n          2.570403478096366\n        ],\n        \"semantic_type\": \"\",\n        \"description\": \"\"\n      }\n    },\n    {\n      \"column\": \"CancerHistory\",\n      \"properties\": {\n        \"dtype\": \"number\",\n        \"std\": 0,\n        \"min\": 0,\n        \"max\": 1,\n        \"num_unique_values\": 2,\n        \"samples\": [\n          0,\n          1\n        ],\n        \"semantic_type\": \"\",\n        \"description\": \"\"\n      }\n    },\n    {\n      \"column\": \"Diagnosis\",\n      \"properties\": {\n        \"dtype\": \"number\",\n        \"std\": 0,\n        \"min\": 0,\n        \"max\": 1,\n        \"num_unique_values\": 2,\n        \"samples\": [\n          0,\n          1\n        ],\n        \"semantic_type\": \"\",\n        \"description\": \"\"\n      }\n    }\n  ]\n}"
            }
          },
          "metadata": {}
        }
      ],
      "source": [
        "# Load Data\n",
        "data = pd.read_csv('CancerData.csv')\n",
        "\n",
        "# Print data shape and display data to confirm that it's properly loaded\n",
        "print(data.shape)\n",
        "display(data)\n",
        "\n",
        "# Divide columns into user data (x) and diagnosis (y)\n",
        "X = data.iloc[:, :8]\n",
        "y = data.iloc[:, 8:]"
      ]
    },
    {
      "cell_type": "markdown",
      "id": "d5eb4069-42f3-457e-880e-a7a72d4c5728",
      "metadata": {
        "id": "d5eb4069-42f3-457e-880e-a7a72d4c5728"
      },
      "source": [
        "# Data Cleaning"
      ]
    },
    {
      "cell_type": "markdown",
      "id": "8258654e-a877-4b48-9f82-dd5e02f3cb11",
      "metadata": {
        "id": "8258654e-a877-4b48-9f82-dd5e02f3cb11"
      },
      "source": [
        "In order to ensure a high level of preformance from our model, we need to ensure that the data is cleaned and preprocessed accordingly. First and foremost, that means removing any duplicate samples in the dataset that can potentially skew the data. Duplicates can introduce bias into the model, as it could favor repeated samples leading to overfitting. Repeated data can also skew metrics such as accuracy and validation scores, misleading us to the actual preformance of the model. Therefore, we define a function to remove duplicates."
      ]
    },
    {
      "cell_type": "code",
      "execution_count": 3,
      "id": "789becfe-c4ff-43cb-8b28-a95a240bd734",
      "metadata": {
        "colab": {
          "base_uri": "https://localhost:8080/"
        },
        "id": "789becfe-c4ff-43cb-8b28-a95a240bd734",
        "outputId": "66cbdb9d-89d1-48db-843d-fcab7f32ee46"
      },
      "outputs": [
        {
          "output_type": "stream",
          "name": "stdout",
          "text": [
            "No duplicates in dataset\n"
          ]
        }
      ],
      "source": [
        "def remove_duplicates(data):\n",
        "    \"\"\"\n",
        "    Removes duplicate rows/samples from a dataset.\n",
        "\n",
        "    Parameters:\n",
        "    data: Dataframe to be parsed.\n",
        "\n",
        "    Returns:\n",
        "    Dataframe after it was cleaned.\n",
        "    \"\"\"\n",
        "    initial_shape = data.shape\n",
        "    data = data.drop_duplicates() # remove duplicates\n",
        "    final_shape = data.shape\n",
        "    # Compare initial/final shape to determine if duplicates exist\n",
        "    if initial_shape[0] - final_shape[0] == 0:\n",
        "        print (\"No duplicates in dataset\")\n",
        "    else:\n",
        "        print(f\"Removed {initial_shape[0] - final_shape[0]} duplicate rows.\")\n",
        "    return data\n",
        "\n",
        "# Remove duplicates from the data\n",
        "data = remove_duplicates(data)"
      ]
    },
    {
      "cell_type": "markdown",
      "id": "03318796-e0be-43b6-b53a-14f742444c3f",
      "metadata": {
        "id": "03318796-e0be-43b6-b53a-14f742444c3f"
      },
      "source": [
        "The next step in our data prerpocessing is to remove non-numeric values and NaNs. First and foremost, these values must be removed as ML models expect numerical inputs. This will help prevent any errors during the actual computation that occurs with the models and will overall help improve the quality of our data. Below we define and call a function that checks for these non-numeric values in the data and signals out their specific location so they can be handled accordingly."
      ]
    },
    {
      "cell_type": "code",
      "execution_count": 4,
      "id": "dc9341c4-7dd6-4174-9cb5-052810d4a1b9",
      "metadata": {
        "colab": {
          "base_uri": "https://localhost:8080/"
        },
        "id": "dc9341c4-7dd6-4174-9cb5-052810d4a1b9",
        "outputId": "3371d178-37e4-4a57-8ac1-3dbbc057c5f9"
      },
      "outputs": [
        {
          "output_type": "stream",
          "name": "stdout",
          "text": [
            "All entries are valid\n"
          ]
        }
      ],
      "source": [
        "def check_for_num(data):\n",
        "    \"\"\"\n",
        "    Checks for non-numeric values or NaNs in the data\n",
        "\n",
        "    Parameters:\n",
        "    data: Dataframe to be parsed.\n",
        "\n",
        "    Returns:\n",
        "    errors: List of strings with the row, and column of the non-numeric values locations in the data frame.\n",
        "    \"\"\"\n",
        "    # Get number of rows/cols\n",
        "    num_columns = data.shape[1]\n",
        "    num_rows = data.shape[0]\n",
        "    errors = []\n",
        "    # Iterate through the data frame to check each respective cell\n",
        "    for i in range(num_columns):\n",
        "        for j in range(num_rows):\n",
        "            cell_value = data.iloc[j, i]\n",
        "            # check if not numeric / NaN\n",
        "            if not pd.api.types.is_numeric_dtype(type(cell_value)) or pd.isna(cell_value):\n",
        "                errors.append(f\"Non-numeric value '{cell_value}' found at row {j}, column {i}\")\n",
        "    return errors\n",
        "\n",
        "# If all entries are numbers, return an empty list. Otherwise return a list of error statements including their locations\n",
        "if (len(check_for_num(data)) == 0):\n",
        "    print(\"All entries are valid\")\n",
        "else:\n",
        "    for error in check_for_num(data):\n",
        "        print(error)"
      ]
    },
    {
      "cell_type": "markdown",
      "id": "9c7ebfe2-5b1a-44c2-875b-ac6007d0316b",
      "metadata": {
        "id": "9c7ebfe2-5b1a-44c2-875b-ac6007d0316b"
      },
      "source": [
        "Finally, we look to find any otulier values in the data in order to ensure a enhanced model preformance. Outliers can skew values in the data such as mean and variance drastically, which can affect the model's ability to learn and recognize patterns. Many models are super sensitive to outliers. By calculating the z-score and removing those above a set threshold, we can remove any data point that deviates drastically from the mean. This helps ensure that a certain data quality standard is met preventing outliers. Below we define a function that does this and identify, and remove any outliers."
      ]
    },
    {
      "cell_type": "code",
      "execution_count": 5,
      "id": "c49b2f94-43c5-4a54-ae0c-417ce52bfa6d",
      "metadata": {
        "colab": {
          "base_uri": "https://localhost:8080/"
        },
        "id": "c49b2f94-43c5-4a54-ae0c-417ce52bfa6d",
        "outputId": "fdc5d679-b04b-434a-a499-7783e66f660e"
      },
      "outputs": [
        {
          "output_type": "stream",
          "name": "stdout",
          "text": [
            "No outliers detected in the dataset\n"
          ]
        }
      ],
      "source": [
        "def detect_outliers(data, threshold):\n",
        "    \"\"\"\n",
        "    Detects and replaces any outliers in the data with a NaN on the basis of the calculated Z-scores.\n",
        "\n",
        "    Parameters:\n",
        "    data: Dataframe to be parsed.\n",
        "\n",
        "    Returns:\n",
        "    data_outliers: Dataframe with the outliers replaced by NaN.\n",
        "    \"\"\"\n",
        "    # Make a copy of the data frame\n",
        "    data_outliers = data.copy()\n",
        "\n",
        "    # Calculate the Z-scores for the entire dataset\n",
        "    z_scores = np.abs(zscore(data))\n",
        "\n",
        "    # Replace outliers with NaN\n",
        "    data_outliers = data.mask(z_scores > threshold, np.nan)\n",
        "\n",
        "    return data_outliers\n",
        "\n",
        "# Apply outlier detection to the dataset\n",
        "data = detect_outliers(data, threshold = 3)\n",
        "\n",
        "if len(check_for_num(data)) == 0:\n",
        "    print(\"No outliers detected in the dataset\")\n",
        "else:\n",
        "    print(\"Outliers detected in the dataset:\")"
      ]
    },
    {
      "cell_type": "markdown",
      "id": "7de8f5f0-ceda-45f9-b24d-8636341df25b",
      "metadata": {
        "id": "7de8f5f0-ceda-45f9-b24d-8636341df25b"
      },
      "source": [
        "As our next step, we wanted to explore the data more in depth. Our goal is to understand the relationship between various features and to ensure that some relationship exists. Otherwise, if no relationship exists it should be removed as it is irrelevant data. Before starting this process, we ensure that the data is standardized to further normalize it, as it treats all the features on a comparabale scale. The approach we took to analyze relationships between features is to create 8 suplots, one for each feature, and to visualize the realtionship between each feature and our target (cancer diagnosis.) Each subplot has a scatter plot of the feature values versus the target variable. We also added a logistic regression curve that models the probablity of cancer diagnosis as a function of each respective feature. This helps make it more obvious that an existing relationship exists between a feature and a target."
      ]
    },
    {
      "cell_type": "code",
      "execution_count": 6,
      "id": "9ecb3b20-9317-42c4-9b01-2f3f934854d6",
      "metadata": {
        "colab": {
          "base_uri": "https://localhost:8080/",
          "height": 1000
        },
        "id": "9ecb3b20-9317-42c4-9b01-2f3f934854d6",
        "outputId": "5ea86768-b77b-4dd8-d3e8-1226f2dcf154"
      },
      "outputs": [
        {
          "output_type": "display_data",
          "data": {
            "text/plain": [
              "<Figure size 700x3000 with 8 Axes>"
            ],
            "image/png": "[encoded data removed]"
          },
          "metadata": {}
        }
      ],
      "source": [
        "# Standardize the features\n",
        "scaler = StandardScaler()\n",
        "X = scaler.fit_transform(X)\n",
        "\n",
        "# Create 8 subplots for each feature vs output graph\n",
        "fig, ax = plt.subplots(nrows = X.shape[1], ncols = 1, figsize = (7, 30))\n",
        "features = [\"Age\", \"Gender (Female to Male)\", \"BMI\", \"Smoking\", \"Genetic Risk\", \"Physical Activity\", \"Alcohol Intake\", \"Cancer History\"]\n",
        "\n",
        "def graph_logistic_relationships(X, y):\n",
        "    \"\"\"\n",
        "    Plots logistic regression relationship between each feature in X and target variable y.\n",
        "\n",
        "    Parameters:\n",
        "    X: Dataframe (feature matrix)\n",
        "    y: Dataframe (target vector)\n",
        "\n",
        "    Returns:\n",
        "    None\n",
        "    \"\"\"\n",
        "    # Flatten values if necessary\n",
        "    y_vals = y.values.ravel()\n",
        "\n",
        "    # Loop through each feature col in X\n",
        "    for i in range(X.shape[1]):\n",
        "        x = X[:, i].reshape((-1, 1))\n",
        "\n",
        "        # Create Scatterplot of points\n",
        "        ax[i].scatter(x, y_vals, color='blue', s=10)\n",
        "\n",
        "        # Create and plot logistic regression model\n",
        "        model = LogisticRegression(max_iter = 1000)\n",
        "        model.fit(x, y_vals)\n",
        "        y_pred_prob = model.predict_proba(x)[:,1]\n",
        "        ax[i].plot(x, y_pred_prob, color='red')\n",
        "\n",
        "        # Title and Label plots\n",
        "        ax[i].set_title(f'Probability of Cancer Diagnosis vs {features[i]}')\n",
        "        ax[i].set_xlabel(features[i])\n",
        "        ax[i].set_ylabel('Probability of Cancer Diagnosis')\n",
        "\n",
        "    plt.tight_layout()\n",
        "\n",
        "    plt.show()\n",
        "\n",
        "# Call graph_logistic_relationships\n",
        "graph_logistic_relationships(X,y)"
      ]
    },
    {
      "cell_type": "markdown",
      "id": "457d1dbc-1a31-4801-a66b-44aeb8058862",
      "metadata": {
        "id": "457d1dbc-1a31-4801-a66b-44aeb8058862"
      },
      "source": [
        "Based on the 8 plots above, it is obvious to tell that there exists some distinctive relationship between the feature and the target. This tells us that all the data we have is relevant to our model and that it should all be kept."
      ]
    },
    {
      "cell_type": "markdown",
      "id": "f0fb1ad3-b97b-459c-b27c-335013e5c7d1",
      "metadata": {
        "id": "f0fb1ad3-b97b-459c-b27c-335013e5c7d1"
      },
      "source": [
        "# Comparing Multiple Models"
      ]
    },
    {
      "cell_type": "markdown",
      "id": "4bb7a92d-c49e-4880-b2fc-a9a20c8c2e43",
      "metadata": {
        "id": "4bb7a92d-c49e-4880-b2fc-a9a20c8c2e43"
      },
      "source": [
        "We were recommended to compare some other models then our intended neural network in our Project Proposal by the Professor, so for our next step we utilized 8 common classifiers and investigated their respective preformances. We started by splitting the data up into training and testing X/y data sets, and standardized the features."
      ]
    },
    {
      "cell_type": "code",
      "execution_count": 7,
      "id": "afcfce48-96f6-4005-b155-9c968702b952",
      "metadata": {
        "id": "afcfce48-96f6-4005-b155-9c968702b952"
      },
      "outputs": [],
      "source": [
        "# Create training and test sets\n",
        "y = y.values.ravel()\n",
        "X_train, X_test, y_train, y_test = train_test_split(X, y, test_size = 0.2, random_state = 42)\n",
        "\n",
        "# Standardize the features\n",
        "scaler = StandardScaler()\n",
        "X_train = scaler.fit_transform(X_train)\n",
        "X_test = scaler.fit_transform(X_test)"
      ]
    },
    {
      "cell_type": "markdown",
      "id": "3d505187-ca93-430c-84e3-e48df0f94c2b",
      "metadata": {
        "id": "3d505187-ca93-430c-84e3-e48df0f94c2b"
      },
      "source": [
        "Once our data was ready, we looped through each one of the models and fit the training data to them. After each model was trained on the training data, we tested their ability to predict the target on the test features. Finally, we calculated their accuracy score."
      ]
    },
    {
      "cell_type": "code",
      "execution_count": 8,
      "id": "47056f96-a78a-4a17-afb6-bb454ac15016",
      "metadata": {
        "colab": {
          "base_uri": "https://localhost:8080/"
        },
        "id": "47056f96-a78a-4a17-afb6-bb454ac15016",
        "outputId": "3886535b-9f38-4523-ca9a-ae866e05d9a9"
      },
      "outputs": [
        {
          "output_type": "stream",
          "name": "stdout",
          "text": [
            "Model                        Accuracy\n",
            "=======================================\n",
            "Random Forest                  0.92\n",
            "Gradient Boosting              0.91\n",
            "K-Nearest Neighbors            0.89\n",
            "Support Vector Machines        0.88\n",
            "Decision Tree                  0.88\n",
            "LogisticRegression             0.86\n",
            "GaussianNB                     0.84\n"
          ]
        }
      ],
      "source": [
        "# List of models and respective initializations\n",
        "models = [\n",
        "    ('Random Forest', RandomForestClassifier(random_state=42)),\n",
        "    ('Support Vector Machines', SVC(random_state = 42)),\n",
        "    ('K-Nearest Neighbors', KNeighborsClassifier(n_neighbors=4, algorithm='ball_tree', leaf_size=30, p=1, metric='manhattan')),\n",
        "    ('Decision Tree', DecisionTreeClassifier(max_depth=17, random_state=42)),\n",
        "    ('Gradient Boosting', GradientBoostingClassifier(n_estimators=300, learning_rate=0.1, max_depth=10)),\n",
        "    ('GaussianNB', GaussianNB()),\n",
        "    ('LogisticRegression', LogisticRegression(max_iter = 10000, random_state = 42))\n",
        "]\n",
        "\n",
        "results = {}\n",
        "for name, model in models:\n",
        "    # Fit the model on the training data\n",
        "    model.fit(X_train, y_train)\n",
        "    # Predict the labels for test data\n",
        "    y_pred = model.predict(X_test)\n",
        "    # Calculate the accuracy\n",
        "    accuracy = accuracy_score(y_test, y_pred)\n",
        "    results[name] = {'Acc': accuracy}\n",
        "\n",
        "# Sort and display the models by accuracy performance\n",
        "sorted_results = sorted(results.items(), key=lambda x: x[1]['Acc'], reverse=True)\n",
        "print(\"Model                        Accuracy\")\n",
        "print(\"=======================================\")\n",
        "j = 0\n",
        "for result in sorted_results:\n",
        "    print(f\"{result[0].ljust(25)}{round(float(result[1]['Acc']), 2).__str__().rjust(10)}\")"
      ]
    },
    {
      "cell_type": "markdown",
      "id": "3c99fc9a-4243-4140-bb27-7d585018e3fa",
      "metadata": {
        "id": "3c99fc9a-4243-4140-bb27-7d585018e3fa"
      },
      "source": [
        "On the basis of these models, we saw that Random Forest scored the highest of all the classifiers with 92% accuracy. As a close second, Gradient Boosting scored 91%. Both of these models are comparatively complex, which is a good sign as a Neural Network is also a comparatively complex model. All three methods can capture non-linear relationships between features and target variables. This also makes sense since comparatively, Logistic regression, a linearly based model scored much lower than GB and random forest at only 86%. Therefore, this established a baseline performance we wanted to aim for our Neural Network to surpass, which was at least 92%."
      ]
    },
    {
      "cell_type": "markdown",
      "id": "5c2d376e-df5f-40a9-87d1-381e9758d4d7",
      "metadata": {
        "id": "5c2d376e-df5f-40a9-87d1-381e9758d4d7"
      },
      "source": [
        "# Model Training (Binary Classification Neural Network)"
      ]
    },
    {
      "cell_type": "markdown",
      "id": "20fd7915-aacc-4d6b-9bcc-d4f45220c3ee",
      "metadata": {
        "id": "20fd7915-aacc-4d6b-9bcc-d4f45220c3ee"
      },
      "source": [
        "Inlcude all imports relevant to neural network development, training, and evaluation."
      ]
    },
    {
      "cell_type": "code",
      "execution_count": 9,
      "id": "54c0ed06-d539-471b-9c4e-b7a56f3fe861",
      "metadata": {
        "id": "54c0ed06-d539-471b-9c4e-b7a56f3fe861"
      },
      "outputs": [],
      "source": [
        "# imports\n",
        "import torch\n",
        "import torch.nn as nn\n",
        "import torch.optim as optim\n",
        "import seaborn as sns\n",
        "from sklearn.model_selection import train_test_split\n",
        "from sklearn.metrics import accuracy_score, confusion_matrix, classification_report"
      ]
    },
    {
      "cell_type": "markdown",
      "id": "7f8219a2-7350-424b-a0fc-aec56653355f",
      "metadata": {
        "id": "7f8219a2-7350-424b-a0fc-aec56653355f"
      },
      "source": [
        "We split the data into training and testing X/y datasets and then convert the data to tensors. The data must be converted into tensors in order to use PyTorch accordingly."
      ]
    },
    {
      "cell_type": "code",
      "execution_count": 10,
      "id": "43ee22d4-d20b-4821-9ea0-8174b58723b8",
      "metadata": {
        "id": "43ee22d4-d20b-4821-9ea0-8174b58723b8"
      },
      "outputs": [],
      "source": [
        "# Split data into X, y training/testing\n",
        "X_train, X_test, y_train, y_test = train_test_split(X, y, test_size=0.2, random_state=42)\n",
        "# Convert data to tensors\n",
        "X_train = torch.tensor(X_train, dtype=torch.float32)\n",
        "y_train = torch.tensor(y_train, dtype=torch.float32).reshape(-1,1)\n",
        "X_test = torch.tensor(X_test, dtype=torch.float32)\n",
        "y_test = torch.tensor(y_test, dtype=torch.float32).reshape(-1,1)"
      ]
    },
    {
      "cell_type": "markdown",
      "id": "e9cf33ac-904b-4431-b8f6-0c63def45e14",
      "metadata": {
        "id": "e9cf33ac-904b-4431-b8f6-0c63def45e14"
      },
      "source": [
        "*In order to organize our code below, we defined helper functions that we saw were constantly repeated. The three functions we defined are print_architecture, train_model, and evaluate_model. As their names imply, they are used to help us print out the model's architecture, and respectively train and evaluate models that are passed in.*"
      ]
    },
    {
      "cell_type": "code",
      "execution_count": 11,
      "id": "b1efaac1-4e0f-4e22-b247-1f31f967e547",
      "metadata": {
        "id": "b1efaac1-4e0f-4e22-b247-1f31f967e547"
      },
      "outputs": [],
      "source": [
        "def train_model(model, optimizer, train_loader, num_epochs):\n",
        "    \"\"\"\n",
        "    Helper function to train the given model.\n",
        "\n",
        "    Parameters:\n",
        "    model: Neural network to be trained\n",
        "    optimizer: Optimizer to be used in training\n",
        "    train_loader: Dataloder with the batches of training data\n",
        "    num_epochs: Number of epochs to train the model\n",
        "    \"\"\"\n",
        "    model.train()\n",
        "    for epoch in range(num_epochs):\n",
        "        for batch_X, batch_y in train_loader:\n",
        "            optimizer.zero_grad() # clear and previous gradients\n",
        "            outputs = model(batch_X) # forward pass\n",
        "            loss = nn.MSELoss()(outputs, batch_y) # calculate loss\n",
        "            loss.backward() # backward pass\n",
        "            optimizer.step() # update model params"
      ]
    },
    {
      "cell_type": "code",
      "execution_count": 12,
      "id": "ab4f17e9-549a-417f-b621-cb8b288be0a7",
      "metadata": {
        "id": "ab4f17e9-549a-417f-b621-cb8b288be0a7"
      },
      "outputs": [],
      "source": [
        "def evaluate_model(model, X_test, y_test):\n",
        "    \"\"\"\n",
        "    Helper function to evaluate the performance of the model on the test dataset.\n",
        "\n",
        "    Parameters:\n",
        "    model: Trained neural network to be evaluated\n",
        "    X_test: Test input data\n",
        "    y_test: Labels for the test data\n",
        "\n",
        "    Returns:\n",
        "    float: Accuracy score of the model on the test dataset\n",
        "    \"\"\"\n",
        "    model.eval()\n",
        "    with torch.no_grad():\n",
        "        test_outputs = model(X_test) # forward pass\n",
        "        predicted = (test_outputs > 0.5).float() # convert to binary classification\n",
        "        return accuracy_score(y_test, predicted)"
      ]
    },
    {
      "cell_type": "code",
      "execution_count": 13,
      "id": "3875f87e-7cd0-4271-aec4-dfc698b49b23",
      "metadata": {
        "id": "3875f87e-7cd0-4271-aec4-dfc698b49b23"
      },
      "outputs": [],
      "source": [
        "def print_architecture(model_info):\n",
        "    \"\"\"\n",
        "    Helper methods that prints the architecture and hyperparameters of a model.\n",
        "\n",
        "    Parameters:\n",
        "    model_info: Dict with model, accuracy, and hyperparameters.\n",
        "        model: The trained model\n",
        "        accuracy: Accuracy of the model\n",
        "        params: A dict of hyperparameters:\n",
        "            width: List of layer widths\n",
        "            depth: Depth of model\n",
        "            epochs: Number of epochs\n",
        "            optimizer: Name of optimizer\n",
        "            activation_fn: Name of activation function\n",
        "            batch_size: Batch size\n",
        "\n",
        "    Returns:\n",
        "    None\n",
        "    \"\"\"\n",
        "    params = model_info['params']\n",
        "    accuracy = model_info['accuracy']\n",
        "    print(f\"Model Architecture: Accuracy: {accuracy:.4f}, Width {params['width']},  Depth: {params['depth']}, Epochs: {params['epochs']}, Optimizer: {params['optimizer']}, Activation Function: {params['activation_fn']}, Batch Size: {params['batch_size']}\")"
      ]
    },
    {
      "cell_type": "markdown",
      "id": "ee7f8e29-759c-444a-a591-1a2611cb30b1",
      "metadata": {
        "id": "ee7f8e29-759c-444a-a591-1a2611cb30b1"
      },
      "source": [
        "### First Iteration\n",
        "Initially, we built out a neural network with three hidden layers 180, 120, and 60 neurons respectively. Each layer included a ReLU activation function while the output layer had a sigmoid activation function. Since we are working on a binary classification problem, it makes sense to use a sigmoid activation function due to its binary nature. We used Binary cross-entropy loss and the ADAM optimizer with a learning rate of 0.01 as starting hyperparameters for our initial model. The model ran for 100 epochs and scored on average an accuracy of around 88%. Unfortunately, it fell short of our initial expectations."
      ]
    },
    {
      "cell_type": "code",
      "execution_count": 14,
      "id": "803bfe73-4426-4f4a-b727-b2c25f99d4a5",
      "metadata": {
        "id": "803bfe73-4426-4f4a-b727-b2c25f99d4a5"
      },
      "outputs": [],
      "source": [
        "class Model_1(nn.Module):\n",
        "    \"\"\"\n",
        "    Simple feedforward neural network model with three hidden layers and ReLU activation functions.\n",
        "    \"\"\"\n",
        "    def __init__(self):\n",
        "        \"\"\"\n",
        "        Initialize layers and activation functions for model.\n",
        "        \"\"\"\n",
        "        super(Model_1, self).__init__()\n",
        "        self.layer1 = nn.Linear(8,180) # first hidden layer\n",
        "        self.act1 = nn.ReLU() # activation function after h1\n",
        "        self.layer2 = nn.Linear(180,120) #second hidden layer\n",
        "        self.act2 = nn.ReLU() # activation function after h2\n",
        "        self.layer3 = nn.Linear(120,60) # third hidden layer\n",
        "        self.act3 = nn.ReLU() # activation function after h3\n",
        "        self.output = nn.Linear(60,1) #output layer\n",
        "         # sigmoid activtion function to convert to binary classification\n",
        "        self.sigmoid = nn.Sigmoid()\n",
        "\n",
        "    def forward(self, x):\n",
        "        \"\"\"\n",
        "        Forward pass for the network.\n",
        "\n",
        "        Parmaeters:\n",
        "        x: Input tensor\n",
        "\n",
        "        Returns:\n",
        "        x: Output tensor after passing through all layers/activation functions.\n",
        "        \"\"\"\n",
        "        x = self.act1(self.layer1(x)) # h1 + ReLU\n",
        "        x = self.act2(self.layer2(x)) # h2 + ReLU\n",
        "        x = self.act3(self.layer3(x)) # h3 + ReLU\n",
        "        x = self.sigmoid(self.output(x)) # output + sigmoid\n",
        "        return x"
      ]
    },
    {
      "cell_type": "code",
      "execution_count": 15,
      "id": "8295a99e-bf47-4fd3-8267-a6ad40ab9ed1",
      "metadata": {
        "colab": {
          "base_uri": "https://localhost:8080/"
        },
        "id": "8295a99e-bf47-4fd3-8267-a6ad40ab9ed1",
        "outputId": "2be303c1-a4c5-47b3-ae4e-d73e900f78e1"
      },
      "outputs": [
        {
          "output_type": "stream",
          "name": "stdout",
          "text": [
            "Epoch [0/100], Loss: 0.6918\n",
            "Epoch [10/100], Loss: 0.3228\n",
            "Epoch [20/100], Loss: 0.2539\n",
            "Epoch [30/100], Loss: 0.2022\n",
            "Epoch [40/100], Loss: 0.2016\n",
            "Epoch [50/100], Loss: 0.1468\n",
            "Epoch [60/100], Loss: 0.0971\n",
            "Epoch [70/100], Loss: 0.0648\n",
            "Epoch [80/100], Loss: 0.0605\n",
            "Epoch [90/100], Loss: 0.0408\n",
            "Validation accuracy: 0.8833\n"
          ]
        }
      ],
      "source": [
        "# Initialize model\n",
        "model = Model_1()\n",
        "\n",
        "# Hyperparameters\n",
        "loss_fn = nn.BCELoss()\n",
        "optimizer = optim.Adam(model.parameters(), lr=0.01)\n",
        "num_epochs = 100\n",
        "\n",
        "# training loop\n",
        "for i in range(num_epochs):\n",
        "    model.train()\n",
        "    outputs = model(X_train) # forward pass\n",
        "    loss = loss_fn(outputs, y_train) # calculate loss\n",
        "\n",
        "    optimizer.zero_grad() # clear gradients\n",
        "    loss.backward() # backward pass\n",
        "    optimizer.step() # update model params\n",
        "\n",
        "    # print loss every 10 epochs\n",
        "    if i % 10 == 0:\n",
        "        print(f'Epoch [{i}/{num_epochs}], Loss: {loss.item():.4f}')\n",
        "\n",
        "# Validate the model\n",
        "accuracy = evaluate_model(model, X_test, y_test)\n",
        "print(f'Validation accuracy: {accuracy:.4f}')"
      ]
    },
    {
      "cell_type": "markdown",
      "id": "f3c90570-c1f2-4d64-849a-936914352991",
      "metadata": {
        "id": "f3c90570-c1f2-4d64-849a-936914352991"
      },
      "source": [
        "### Optimization\n",
        "In order to improve the accuracy and overall performance of our model, we planned to fine-tune our neural network. To do this, we planned to iterate through multiple sets of hyperparameters to find the best combination of the various permutations. In order to make this possible, we had to define a custom neural network class that is able to take in a customizable architecture of inputs ranging from width and depth to activation functions. We kept the same general outline as our first iteration of the general structure of the neural network."
      ]
    },
    {
      "cell_type": "code",
      "execution_count": 16,
      "id": "02550a04-c76a-40cd-9cad-37e48ee7ba8a",
      "metadata": {
        "id": "02550a04-c76a-40cd-9cad-37e48ee7ba8a"
      },
      "outputs": [],
      "source": [
        "class CustomModel(nn.Module):\n",
        "    \"\"\"\n",
        "    Custom neural network model with a customizable architecture. Consists of multiple fully connected linear layers with an activation function between them, followed by an output layer and a sigmoid activation function.\n",
        "\n",
        "    Parameters:\n",
        "    layers_widths: List of integers specifying the number of neurons per layer.\n",
        "    activation_fn: The activation function to be called after each layer.\n",
        "    \"\"\"\n",
        "    def __init__(self, layers_widths, activation_fn):\n",
        "        \"\"\"\n",
        "        Initializes the CustomModel with the provided architecture.\n",
        "\n",
        "        Parameters:\n",
        "        layers_widths: List of integers specifying the number of neurons per layer.\n",
        "        activation_fn: The activation function to be called after each layer.\n",
        "\n",
        "        Returns:\n",
        "        None\n",
        "        \"\"\"\n",
        "        super(CustomModel, self).__init__()\n",
        "        self.layers = nn.ModuleList() # list to hold layers of model\n",
        "        self.activation_fn = activation_fn\n",
        "        # Initial input dimension\n",
        "        input_dim = 8\n",
        "        # Create hidden layers\n",
        "        for width in layers_widths:\n",
        "            # Linear layer\n",
        "            self.layers.append(nn.Linear(input_dim, width))\n",
        "            # Activation function\n",
        "            self.layers.append(activation_fn())\n",
        "            # Update the dimension for the next layer\n",
        "            input_dim = width\n",
        "        self.output = nn.Linear(input_dim, 1) # Output layer\n",
        "        # Activation function for binary classification\n",
        "        self.sigmoid = nn.Sigmoid()\n",
        "\n",
        "    def forward(self, x):\n",
        "        \"\"\"\n",
        "        Forward pass for the network.\n",
        "\n",
        "        Parmaeters:\n",
        "        x: Input tensor\n",
        "\n",
        "        Returns:\n",
        "        x: Output tensor after passing through all layers/activation functions.\n",
        "        \"\"\"\n",
        "        for layer in self.layers:\n",
        "            x = layer(x)\n",
        "        x = self.sigmoid(self.output(x))\n",
        "        return x"
      ]
    },
    {
      "cell_type": "markdown",
      "id": "d3890371-4880-4882-9557-b74cf12ca5cc",
      "metadata": {
        "id": "d3890371-4880-4882-9557-b74cf12ca5cc"
      },
      "source": [
        "In order to find the best-performing models now that we have a customizable class, we ran a loop through all the parameters, constructing a model for every single permutation possible. The hyperparameters that we began fine-tuning were the width, depth, epochs, loss functions, learning rates, optimizers, activation functions, and batch sizes. Based on this, we were able to find the best-performing models that had the highest accuracy scores.\n",
        "\n",
        "Initially, this code was built only to return the best model. However, we realized that the model would return different architectures that performed slightly better with each iteration. This led us to realize two things. First, we should be finalizing the best model based on multiple iterations averaged out. Second, it made us realize how computationally heavy fine-tuning many hyperparameters can be. Initially, this block of code took 2-4 hours to run.\n",
        "\n",
        "To optimize our work and ensure that our best model was indeed the best, we altered the code to collect the top 5 best-performing model architectures. The goal was to take these top 5 models and later run them each multiple times to average their performance and determine the true best-performing model. Running multiple trainings of every single permutation of hyperparameters would have taken hours and been computationally expensive, leading us to specifically collect 5 models. Additionally, to reduce the time necessary to run our fine-tuning, we removed the hyperparameters for learning rate and loss functions.\n",
        "\n",
        "Regarding the learning rate, we observed that 0.01 performed better than 0.001 consistently, making it redundant to include it in this block of code. We removed the loss function as we similarly found that the Mean Squared Error (MSE - L2) loss function consistently performed better than both Binary Cross-Entropy and Mean Absolute Error (MAE - L1).\n",
        "\n",
        "To provide some context for the output below, each model prints its unique architecture, the parameters it includes, and its accuracy. If the model is the best performing one encountered, the code will indicate that it is the current best model."
      ]
    },
    {
      "cell_type": "code",
      "execution_count": 17,
      "id": "32f2a00b-9cad-44f8-8afb-f20957757d78",
      "metadata": {
        "colab": {
          "base_uri": "https://localhost:8080/"
        },
        "id": "32f2a00b-9cad-44f8-8afb-f20957757d78",
        "outputId": "1c8c072a-e826-4e1d-facb-e9b5b9b3055d"
      },
      "outputs": [
        {
          "output_type": "stream",
          "name": "stdout",
          "text": [
            "[120] 25 Adam Tanh 16 accuracy on the test set: 0.8867\n",
            "New best model:\n",
            "Model Architecture: Accuracy: 0.8867, Width [120],  Depth: 1, Epochs: 25, Optimizer: Adam, Activation Function: Tanh, Batch Size: 16\n",
            "[120] 25 Adam Tanh 32 accuracy on the test set: 0.8933\n",
            "New best model:\n",
            "Model Architecture: Accuracy: 0.8933, Width [120],  Depth: 1, Epochs: 25, Optimizer: Adam, Activation Function: Tanh, Batch Size: 32\n",
            "[120] 25 Adam Sigmoid 16 accuracy on the test set: 0.8833\n",
            "[120] 25 Adam Sigmoid 32 accuracy on the test set: 0.8833\n",
            "[120] 25 RMSprop Tanh 16 accuracy on the test set: 0.9300\n",
            "New best model:\n",
            "Model Architecture: Accuracy: 0.9300, Width [120],  Depth: 1, Epochs: 25, Optimizer: RMSprop, Activation Function: Tanh, Batch Size: 16\n",
            "[120] 25 RMSprop Tanh 32 accuracy on the test set: 0.9200\n",
            "[120] 25 RMSprop Sigmoid 16 accuracy on the test set: 0.8967\n",
            "[120] 25 RMSprop Sigmoid 32 accuracy on the test set: 0.9000\n",
            "[120] 50 Adam Tanh 16 accuracy on the test set: 0.9300\n",
            "[120] 50 Adam Tanh 32 accuracy on the test set: 0.9167\n",
            "[120] 50 Adam Sigmoid 16 accuracy on the test set: 0.9167\n",
            "[120] 50 Adam Sigmoid 32 accuracy on the test set: 0.9100\n",
            "[120] 50 RMSprop Tanh 16 accuracy on the test set: 0.9267\n",
            "[120] 50 RMSprop Tanh 32 accuracy on the test set: 0.9233\n",
            "[120] 50 RMSprop Sigmoid 16 accuracy on the test set: 0.9200\n",
            "[120] 50 RMSprop Sigmoid 32 accuracy on the test set: 0.8933\n",
            "[120] 100 Adam Tanh 16 accuracy on the test set: 0.9100\n",
            "[120] 100 Adam Tanh 32 accuracy on the test set: 0.9133\n",
            "[120] 100 Adam Sigmoid 16 accuracy on the test set: 0.9233\n",
            "[120] 100 Adam Sigmoid 32 accuracy on the test set: 0.9133\n",
            "[120] 100 RMSprop Tanh 16 accuracy on the test set: 0.9000\n",
            "[120] 100 RMSprop Tanh 32 accuracy on the test set: 0.9267\n",
            "[120] 100 RMSprop Sigmoid 16 accuracy on the test set: 0.9300\n",
            "[120] 100 RMSprop Sigmoid 32 accuracy on the test set: 0.9367\n",
            "New best model:\n",
            "Model Architecture: Accuracy: 0.9367, Width [120],  Depth: 1, Epochs: 100, Optimizer: RMSprop, Activation Function: Sigmoid, Batch Size: 32\n",
            "[120] 150 Adam Tanh 16 accuracy on the test set: 0.9000\n",
            "[120] 150 Adam Tanh 32 accuracy on the test set: 0.9200\n",
            "[120] 150 Adam Sigmoid 16 accuracy on the test set: 0.9300\n",
            "[120] 150 Adam Sigmoid 32 accuracy on the test set: 0.9300\n",
            "[120] 150 RMSprop Tanh 16 accuracy on the test set: 0.9000\n",
            "[120] 150 RMSprop Tanh 32 accuracy on the test set: 0.9100\n",
            "[120] 150 RMSprop Sigmoid 16 accuracy on the test set: 0.9200\n",
            "[120] 150 RMSprop Sigmoid 32 accuracy on the test set: 0.9367\n",
            "[120] 25 Adam Tanh 16 accuracy on the test set: 0.9267\n",
            "[120] 25 Adam Tanh 32 accuracy on the test set: 0.9100\n",
            "[120] 25 Adam Sigmoid 16 accuracy on the test set: 0.8833\n",
            "[120] 25 Adam Sigmoid 32 accuracy on the test set: 0.9000\n",
            "[120] 25 RMSprop Tanh 16 accuracy on the test set: 0.9133\n",
            "[120] 25 RMSprop Tanh 32 accuracy on the test set: 0.9000\n",
            "[120] 25 RMSprop Sigmoid 16 accuracy on the test set: 0.8900\n",
            "[120] 25 RMSprop Sigmoid 32 accuracy on the test set: 0.8967\n",
            "[120] 50 Adam Tanh 16 accuracy on the test set: 0.9000\n",
            "[120] 50 Adam Tanh 32 accuracy on the test set: 0.9200\n",
            "[120] 50 Adam Sigmoid 16 accuracy on the test set: 0.9100\n",
            "[120] 50 Adam Sigmoid 32 accuracy on the test set: 0.9067\n",
            "[120] 50 RMSprop Tanh 16 accuracy on the test set: 0.9000\n",
            "[120] 50 RMSprop Tanh 32 accuracy on the test set: 0.9133\n",
            "[120] 50 RMSprop Sigmoid 16 accuracy on the test set: 0.9267\n",
            "[120] 50 RMSprop Sigmoid 32 accuracy on the test set: 0.9033\n",
            "[120] 100 Adam Tanh 16 accuracy on the test set: 0.8933\n",
            "[120] 100 Adam Tanh 32 accuracy on the test set: 0.9133\n",
            "[120] 100 Adam Sigmoid 16 accuracy on the test set: 0.9167\n",
            "[120] 100 Adam Sigmoid 32 accuracy on the test set: 0.9167\n",
            "[120] 100 RMSprop Tanh 16 accuracy on the test set: 0.9200\n",
            "[120] 100 RMSprop Tanh 32 accuracy on the test set: 0.9300\n",
            "[120] 100 RMSprop Sigmoid 16 accuracy on the test set: 0.9300\n",
            "[120] 100 RMSprop Sigmoid 32 accuracy on the test set: 0.9333\n",
            "[120] 150 Adam Tanh 16 accuracy on the test set: 0.9067\n",
            "[120] 150 Adam Tanh 32 accuracy on the test set: 0.9100\n",
            "[120] 150 Adam Sigmoid 16 accuracy on the test set: 0.9100\n",
            "[120] 150 Adam Sigmoid 32 accuracy on the test set: 0.9267\n",
            "[120] 150 RMSprop Tanh 16 accuracy on the test set: 0.9267\n",
            "[120] 150 RMSprop Tanh 32 accuracy on the test set: 0.9033\n",
            "[120] 150 RMSprop Sigmoid 16 accuracy on the test set: 0.9300\n",
            "[120] 150 RMSprop Sigmoid 32 accuracy on the test set: 0.9233\n",
            "[120] 25 Adam Tanh 16 accuracy on the test set: 0.9033\n",
            "[120] 25 Adam Tanh 32 accuracy on the test set: 0.8967\n",
            "[120] 25 Adam Sigmoid 16 accuracy on the test set: 0.8900\n",
            "[120] 25 Adam Sigmoid 32 accuracy on the test set: 0.8933\n",
            "[120] 25 RMSprop Tanh 16 accuracy on the test set: 0.9267\n",
            "[120] 25 RMSprop Tanh 32 accuracy on the test set: 0.9267\n",
            "[120] 25 RMSprop Sigmoid 16 accuracy on the test set: 0.9000\n",
            "[120] 25 RMSprop Sigmoid 32 accuracy on the test set: 0.9067\n",
            "[120] 50 Adam Tanh 16 accuracy on the test set: 0.9100\n",
            "[120] 50 Adam Tanh 32 accuracy on the test set: 0.9167\n",
            "[120] 50 Adam Sigmoid 16 accuracy on the test set: 0.9233\n",
            "[120] 50 Adam Sigmoid 32 accuracy on the test set: 0.9000\n",
            "[120] 50 RMSprop Tanh 16 accuracy on the test set: 0.9267\n",
            "[120] 50 RMSprop Tanh 32 accuracy on the test set: 0.9133\n",
            "[120] 50 RMSprop Sigmoid 16 accuracy on the test set: 0.9100\n",
            "[120] 50 RMSprop Sigmoid 32 accuracy on the test set: 0.9033\n",
            "[120] 100 Adam Tanh 16 accuracy on the test set: 0.9200\n",
            "[120] 100 Adam Tanh 32 accuracy on the test set: 0.9167\n",
            "[120] 100 Adam Sigmoid 16 accuracy on the test set: 0.9300\n",
            "[120] 100 Adam Sigmoid 32 accuracy on the test set: 0.9233\n",
            "[120] 100 RMSprop Tanh 16 accuracy on the test set: 0.9100\n",
            "[120] 100 RMSprop Tanh 32 accuracy on the test set: 0.8833\n",
            "[120] 100 RMSprop Sigmoid 16 accuracy on the test set: 0.9300\n",
            "[120] 100 RMSprop Sigmoid 32 accuracy on the test set: 0.9133\n",
            "[120] 150 Adam Tanh 16 accuracy on the test set: 0.9133\n",
            "[120] 150 Adam Tanh 32 accuracy on the test set: 0.9033\n",
            "[120] 150 Adam Sigmoid 16 accuracy on the test set: 0.9200\n",
            "[120] 150 Adam Sigmoid 32 accuracy on the test set: 0.9233\n",
            "[120] 150 RMSprop Tanh 16 accuracy on the test set: 0.9033\n",
            "[120] 150 RMSprop Tanh 32 accuracy on the test set: 0.9100\n",
            "[120] 150 RMSprop Sigmoid 16 accuracy on the test set: 0.9267\n",
            "[120] 150 RMSprop Sigmoid 32 accuracy on the test set: 0.9200\n",
            "[180] 25 Adam Tanh 16 accuracy on the test set: 0.9067\n",
            "[180] 25 Adam Tanh 32 accuracy on the test set: 0.9000\n",
            "[180] 25 Adam Sigmoid 16 accuracy on the test set: 0.8967\n",
            "[180] 25 Adam Sigmoid 32 accuracy on the test set: 0.8900\n",
            "[180] 25 RMSprop Tanh 16 accuracy on the test set: 0.9167\n",
            "[180] 25 RMSprop Tanh 32 accuracy on the test set: 0.9133\n",
            "[180] 25 RMSprop Sigmoid 16 accuracy on the test set: 0.8900\n",
            "[180] 25 RMSprop Sigmoid 32 accuracy on the test set: 0.8933\n",
            "[180] 50 Adam Tanh 16 accuracy on the test set: 0.9167\n",
            "[180] 50 Adam Tanh 32 accuracy on the test set: 0.9133\n",
            "[180] 50 Adam Sigmoid 16 accuracy on the test set: 0.9233\n",
            "[180] 50 Adam Sigmoid 32 accuracy on the test set: 0.8900\n",
            "[180] 50 RMSprop Tanh 16 accuracy on the test set: 0.9033\n",
            "[180] 50 RMSprop Tanh 32 accuracy on the test set: 0.9167\n",
            "[180] 50 RMSprop Sigmoid 16 accuracy on the test set: 0.9300\n",
            "[180] 50 RMSprop Sigmoid 32 accuracy on the test set: 0.9033\n",
            "[180] 100 Adam Tanh 16 accuracy on the test set: 0.9100\n",
            "[180] 100 Adam Tanh 32 accuracy on the test set: 0.9167\n",
            "[180] 100 Adam Sigmoid 16 accuracy on the test set: 0.9133\n",
            "[180] 100 Adam Sigmoid 32 accuracy on the test set: 0.9167\n",
            "[180] 100 RMSprop Tanh 16 accuracy on the test set: 0.9267\n",
            "[180] 100 RMSprop Tanh 32 accuracy on the test set: 0.9100\n",
            "[180] 100 RMSprop Sigmoid 16 accuracy on the test set: 0.9200\n",
            "[180] 100 RMSprop Sigmoid 32 accuracy on the test set: 0.9300\n",
            "[180] 150 Adam Tanh 16 accuracy on the test set: 0.9167\n",
            "[180] 150 Adam Tanh 32 accuracy on the test set: 0.9100\n",
            "[180] 150 Adam Sigmoid 16 accuracy on the test set: 0.9200\n",
            "[180] 150 Adam Sigmoid 32 accuracy on the test set: 0.9167\n",
            "[180] 150 RMSprop Tanh 16 accuracy on the test set: 0.9167\n",
            "[180] 150 RMSprop Tanh 32 accuracy on the test set: 0.9267\n",
            "[180] 150 RMSprop Sigmoid 16 accuracy on the test set: 0.9233\n",
            "[180] 150 RMSprop Sigmoid 32 accuracy on the test set: 0.9300\n",
            "[180, 120] 25 Adam Tanh 16 accuracy on the test set: 0.8967\n",
            "[180, 120] 25 Adam Tanh 32 accuracy on the test set: 0.8867\n",
            "[180, 120] 25 Adam Sigmoid 16 accuracy on the test set: 0.8733\n",
            "[180, 120] 25 Adam Sigmoid 32 accuracy on the test set: 0.8867\n",
            "[180, 120] 25 RMSprop Tanh 16 accuracy on the test set: 0.8967\n",
            "[180, 120] 25 RMSprop Tanh 32 accuracy on the test set: 0.8900\n",
            "[180, 120] 25 RMSprop Sigmoid 16 accuracy on the test set: 0.8933\n",
            "[180, 120] 25 RMSprop Sigmoid 32 accuracy on the test set: 0.8867\n",
            "[180, 120] 50 Adam Tanh 16 accuracy on the test set: 0.8900\n",
            "[180, 120] 50 Adam Tanh 32 accuracy on the test set: 0.9033\n",
            "[180, 120] 50 Adam Sigmoid 16 accuracy on the test set: 0.9300\n",
            "[180, 120] 50 Adam Sigmoid 32 accuracy on the test set: 0.9167\n",
            "[180, 120] 50 RMSprop Tanh 16 accuracy on the test set: 0.8933\n",
            "[180, 120] 50 RMSprop Tanh 32 accuracy on the test set: 0.8833\n",
            "[180, 120] 50 RMSprop Sigmoid 16 accuracy on the test set: 0.9033\n",
            "[180, 120] 50 RMSprop Sigmoid 32 accuracy on the test set: 0.8900\n",
            "[180, 120] 100 Adam Tanh 16 accuracy on the test set: 0.9200\n",
            "[180, 120] 100 Adam Tanh 32 accuracy on the test set: 0.8900\n",
            "[180, 120] 100 Adam Sigmoid 16 accuracy on the test set: 0.9300\n",
            "[180, 120] 100 Adam Sigmoid 32 accuracy on the test set: 0.9300\n",
            "[180, 120] 100 RMSprop Tanh 16 accuracy on the test set: 0.9067\n",
            "[180, 120] 100 RMSprop Tanh 32 accuracy on the test set: 0.8800\n",
            "[180, 120] 100 RMSprop Sigmoid 16 accuracy on the test set: 0.8900\n",
            "[180, 120] 100 RMSprop Sigmoid 32 accuracy on the test set: 0.8967\n",
            "[180, 120] 150 Adam Tanh 16 accuracy on the test set: 0.9333\n",
            "[180, 120] 150 Adam Tanh 32 accuracy on the test set: 0.9133\n",
            "[180, 120] 150 Adam Sigmoid 16 accuracy on the test set: 0.9267\n",
            "[180, 120] 150 Adam Sigmoid 32 accuracy on the test set: 0.9200\n",
            "[180, 120] 150 RMSprop Tanh 16 accuracy on the test set: 0.9133\n",
            "[180, 120] 150 RMSprop Tanh 32 accuracy on the test set: 0.9067\n",
            "[180, 120] 150 RMSprop Sigmoid 16 accuracy on the test set: 0.9067\n",
            "[180, 120] 150 RMSprop Sigmoid 32 accuracy on the test set: 0.9100\n",
            "[180, 120, 60] 25 Adam Tanh 16 accuracy on the test set: 0.8833\n",
            "[180, 120, 60] 25 Adam Tanh 32 accuracy on the test set: 0.8933\n",
            "[180, 120, 60] 25 Adam Sigmoid 16 accuracy on the test set: 0.8633\n",
            "[180, 120, 60] 25 Adam Sigmoid 32 accuracy on the test set: 0.8933\n",
            "[180, 120, 60] 25 RMSprop Tanh 16 accuracy on the test set: 0.9000\n",
            "[180, 120, 60] 25 RMSprop Tanh 32 accuracy on the test set: 0.8867\n",
            "[180, 120, 60] 25 RMSprop Sigmoid 16 accuracy on the test set: 0.8867\n",
            "[180, 120, 60] 25 RMSprop Sigmoid 32 accuracy on the test set: 0.8633\n",
            "[180, 120, 60] 50 Adam Tanh 16 accuracy on the test set: 0.9100\n",
            "[180, 120, 60] 50 Adam Tanh 32 accuracy on the test set: 0.9033\n",
            "[180, 120, 60] 50 Adam Sigmoid 16 accuracy on the test set: 0.9233\n",
            "[180, 120, 60] 50 Adam Sigmoid 32 accuracy on the test set: 0.9100\n",
            "[180, 120, 60] 50 RMSprop Tanh 16 accuracy on the test set: 0.8700\n",
            "[180, 120, 60] 50 RMSprop Tanh 32 accuracy on the test set: 0.8933\n",
            "[180, 120, 60] 50 RMSprop Sigmoid 16 accuracy on the test set: 0.9133\n",
            "[180, 120, 60] 50 RMSprop Sigmoid 32 accuracy on the test set: 0.9000\n",
            "[180, 120, 60] 100 Adam Tanh 16 accuracy on the test set: 0.9067\n",
            "[180, 120, 60] 100 Adam Tanh 32 accuracy on the test set: 0.9000\n",
            "[180, 120, 60] 100 Adam Sigmoid 16 accuracy on the test set: 0.9167\n",
            "[180, 120, 60] 100 Adam Sigmoid 32 accuracy on the test set: 0.9167\n",
            "[180, 120, 60] 100 RMSprop Tanh 16 accuracy on the test set: 0.8867\n",
            "[180, 120, 60] 100 RMSprop Tanh 32 accuracy on the test set: 0.9033\n",
            "[180, 120, 60] 100 RMSprop Sigmoid 16 accuracy on the test set: 0.9133\n",
            "[180, 120, 60] 100 RMSprop Sigmoid 32 accuracy on the test set: 0.9000\n",
            "[180, 120, 60] 150 Adam Tanh 16 accuracy on the test set: 0.9033\n",
            "[180, 120, 60] 150 Adam Tanh 32 accuracy on the test set: 0.8933\n",
            "[180, 120, 60] 150 Adam Sigmoid 16 accuracy on the test set: 0.9267\n",
            "[180, 120, 60] 150 Adam Sigmoid 32 accuracy on the test set: 0.9200\n",
            "[180, 120, 60] 150 RMSprop Tanh 16 accuracy on the test set: 0.9067\n",
            "[180, 120, 60] 150 RMSprop Tanh 32 accuracy on the test set: 0.8767\n",
            "[180, 120, 60] 150 RMSprop Sigmoid 16 accuracy on the test set: 0.9067\n",
            "[180, 120, 60] 150 RMSprop Sigmoid 32 accuracy on the test set: 0.8867\n",
            "[256] 25 Adam Tanh 16 accuracy on the test set: 0.9200\n",
            "[256] 25 Adam Tanh 32 accuracy on the test set: 0.8733\n",
            "[256] 25 Adam Sigmoid 16 accuracy on the test set: 0.8900\n",
            "[256] 25 Adam Sigmoid 32 accuracy on the test set: 0.9033\n",
            "[256] 25 RMSprop Tanh 16 accuracy on the test set: 0.9300\n",
            "[256] 25 RMSprop Tanh 32 accuracy on the test set: 0.9133\n",
            "[256] 25 RMSprop Sigmoid 16 accuracy on the test set: 0.8933\n",
            "[256] 25 RMSprop Sigmoid 32 accuracy on the test set: 0.8900\n",
            "[256] 50 Adam Tanh 16 accuracy on the test set: 0.9167\n",
            "[256] 50 Adam Tanh 32 accuracy on the test set: 0.9233\n",
            "[256] 50 Adam Sigmoid 16 accuracy on the test set: 0.9233\n",
            "[256] 50 Adam Sigmoid 32 accuracy on the test set: 0.9133\n",
            "[256] 50 RMSprop Tanh 16 accuracy on the test set: 0.9300\n",
            "[256] 50 RMSprop Tanh 32 accuracy on the test set: 0.9167\n",
            "[256] 50 RMSprop Sigmoid 16 accuracy on the test set: 0.9200\n",
            "[256] 50 RMSprop Sigmoid 32 accuracy on the test set: 0.9067\n",
            "[256] 100 Adam Tanh 16 accuracy on the test set: 0.9067\n",
            "[256] 100 Adam Tanh 32 accuracy on the test set: 0.9067\n",
            "[256] 100 Adam Sigmoid 16 accuracy on the test set: 0.9267\n",
            "[256] 100 Adam Sigmoid 32 accuracy on the test set: 0.9200\n",
            "[256] 100 RMSprop Tanh 16 accuracy on the test set: 0.9067\n",
            "[256] 100 RMSprop Tanh 32 accuracy on the test set: 0.9100\n",
            "[256] 100 RMSprop Sigmoid 16 accuracy on the test set: 0.9200\n",
            "[256] 100 RMSprop Sigmoid 32 accuracy on the test set: 0.9200\n",
            "[256] 150 Adam Tanh 16 accuracy on the test set: 0.9000\n",
            "[256] 150 Adam Tanh 32 accuracy on the test set: 0.9067\n",
            "[256] 150 Adam Sigmoid 16 accuracy on the test set: 0.9267\n",
            "[256] 150 Adam Sigmoid 32 accuracy on the test set: 0.9200\n",
            "[256] 150 RMSprop Tanh 16 accuracy on the test set: 0.9233\n",
            "[256] 150 RMSprop Tanh 32 accuracy on the test set: 0.9133\n",
            "[256] 150 RMSprop Sigmoid 16 accuracy on the test set: 0.9233\n",
            "[256] 150 RMSprop Sigmoid 32 accuracy on the test set: 0.9300\n",
            "[256, 128] 25 Adam Tanh 16 accuracy on the test set: 0.8967\n",
            "[256, 128] 25 Adam Tanh 32 accuracy on the test set: 0.9033\n",
            "[256, 128] 25 Adam Sigmoid 16 accuracy on the test set: 0.9000\n",
            "[256, 128] 25 Adam Sigmoid 32 accuracy on the test set: 0.8867\n",
            "[256, 128] 25 RMSprop Tanh 16 accuracy on the test set: 0.8967\n",
            "[256, 128] 25 RMSprop Tanh 32 accuracy on the test set: 0.8933\n",
            "[256, 128] 25 RMSprop Sigmoid 16 accuracy on the test set: 0.8867\n",
            "[256, 128] 25 RMSprop Sigmoid 32 accuracy on the test set: 0.8467\n",
            "[256, 128] 50 Adam Tanh 16 accuracy on the test set: 0.8967\n",
            "[256, 128] 50 Adam Tanh 32 accuracy on the test set: 0.8733\n",
            "[256, 128] 50 Adam Sigmoid 16 accuracy on the test set: 0.9067\n",
            "[256, 128] 50 Adam Sigmoid 32 accuracy on the test set: 0.9300\n",
            "[256, 128] 50 RMSprop Tanh 16 accuracy on the test set: 0.8800\n",
            "[256, 128] 50 RMSprop Tanh 32 accuracy on the test set: 0.8833\n",
            "[256, 128] 50 RMSprop Sigmoid 16 accuracy on the test set: 0.8967\n",
            "[256, 128] 50 RMSprop Sigmoid 32 accuracy on the test set: 0.9000\n",
            "[256, 128] 100 Adam Tanh 16 accuracy on the test set: 0.9200\n",
            "[256, 128] 100 Adam Tanh 32 accuracy on the test set: 0.8933\n",
            "[256, 128] 100 Adam Sigmoid 16 accuracy on the test set: 0.9200\n",
            "[256, 128] 100 Adam Sigmoid 32 accuracy on the test set: 0.9067\n",
            "[256, 128] 100 RMSprop Tanh 16 accuracy on the test set: 0.9167\n",
            "[256, 128] 100 RMSprop Tanh 32 accuracy on the test set: 0.8900\n",
            "[256, 128] 100 RMSprop Sigmoid 16 accuracy on the test set: 0.9167\n",
            "[256, 128] 100 RMSprop Sigmoid 32 accuracy on the test set: 0.9100\n",
            "[256, 128] 150 Adam Tanh 16 accuracy on the test set: 0.9033\n",
            "[256, 128] 150 Adam Tanh 32 accuracy on the test set: 0.8867\n",
            "[256, 128] 150 Adam Sigmoid 16 accuracy on the test set: 0.9233\n",
            "[256, 128] 150 Adam Sigmoid 32 accuracy on the test set: 0.9233\n",
            "[256, 128] 150 RMSprop Tanh 16 accuracy on the test set: 0.8900\n",
            "[256, 128] 150 RMSprop Tanh 32 accuracy on the test set: 0.9200\n",
            "[256, 128] 150 RMSprop Sigmoid 16 accuracy on the test set: 0.9100\n",
            "[256, 128] 150 RMSprop Sigmoid 32 accuracy on the test set: 0.9100\n",
            "[256, 128, 64] 25 Adam Tanh 16 accuracy on the test set: 0.8633\n",
            "[256, 128, 64] 25 Adam Tanh 32 accuracy on the test set: 0.8900\n",
            "[256, 128, 64] 25 Adam Sigmoid 16 accuracy on the test set: 0.8967\n",
            "[256, 128, 64] 25 Adam Sigmoid 32 accuracy on the test set: 0.9033\n",
            "[256, 128, 64] 25 RMSprop Tanh 16 accuracy on the test set: 0.8933\n",
            "[256, 128, 64] 25 RMSprop Tanh 32 accuracy on the test set: 0.8567\n",
            "[256, 128, 64] 25 RMSprop Sigmoid 16 accuracy on the test set: 0.6133\n",
            "[256, 128, 64] 25 RMSprop Sigmoid 32 accuracy on the test set: 0.8800\n",
            "[256, 128, 64] 50 Adam Tanh 16 accuracy on the test set: 0.8900\n",
            "[256, 128, 64] 50 Adam Tanh 32 accuracy on the test set: 0.8767\n",
            "[256, 128, 64] 50 Adam Sigmoid 16 accuracy on the test set: 0.9333\n",
            "[256, 128, 64] 50 Adam Sigmoid 32 accuracy on the test set: 0.9267\n",
            "[256, 128, 64] 50 RMSprop Tanh 16 accuracy on the test set: 0.9000\n",
            "[256, 128, 64] 50 RMSprop Tanh 32 accuracy on the test set: 0.9033\n",
            "[256, 128, 64] 50 RMSprop Sigmoid 16 accuracy on the test set: 0.9000\n",
            "[256, 128, 64] 50 RMSprop Sigmoid 32 accuracy on the test set: 0.9067\n",
            "[256, 128, 64] 100 Adam Tanh 16 accuracy on the test set: 0.9033\n",
            "[256, 128, 64] 100 Adam Tanh 32 accuracy on the test set: 0.8900\n",
            "[256, 128, 64] 100 Adam Sigmoid 16 accuracy on the test set: 0.9067\n",
            "[256, 128, 64] 100 Adam Sigmoid 32 accuracy on the test set: 0.9233\n",
            "[256, 128, 64] 100 RMSprop Tanh 16 accuracy on the test set: 0.9233\n",
            "[256, 128, 64] 100 RMSprop Tanh 32 accuracy on the test set: 0.8933\n",
            "[256, 128, 64] 100 RMSprop Sigmoid 16 accuracy on the test set: 0.6133\n",
            "[256, 128, 64] 100 RMSprop Sigmoid 32 accuracy on the test set: 0.6133\n",
            "[256, 128, 64] 150 Adam Tanh 16 accuracy on the test set: 0.8800\n",
            "[256, 128, 64] 150 Adam Tanh 32 accuracy on the test set: 0.8867\n",
            "[256, 128, 64] 150 Adam Sigmoid 16 accuracy on the test set: 0.9167\n",
            "[256, 128, 64] 150 Adam Sigmoid 32 accuracy on the test set: 0.9133\n",
            "[256, 128, 64] 150 RMSprop Tanh 16 accuracy on the test set: 0.9033\n",
            "[256, 128, 64] 150 RMSprop Tanh 32 accuracy on the test set: 0.9100\n",
            "[256, 128, 64] 150 RMSprop Sigmoid 16 accuracy on the test set: 0.9100\n",
            "[256, 128, 64] 150 RMSprop Sigmoid 32 accuracy on the test set: 0.6133\n",
            "[64] 25 Adam Tanh 16 accuracy on the test set: 0.9100\n",
            "[64] 25 Adam Tanh 32 accuracy on the test set: 0.9133\n",
            "[64] 25 Adam Sigmoid 16 accuracy on the test set: 0.8900\n",
            "[64] 25 Adam Sigmoid 32 accuracy on the test set: 0.9000\n",
            "[64] 25 RMSprop Tanh 16 accuracy on the test set: 0.9167\n",
            "[64] 25 RMSprop Tanh 32 accuracy on the test set: 0.9233\n",
            "[64] 25 RMSprop Sigmoid 16 accuracy on the test set: 0.8900\n",
            "[64] 25 RMSprop Sigmoid 32 accuracy on the test set: 0.8933\n",
            "[64] 50 Adam Tanh 16 accuracy on the test set: 0.9167\n",
            "[64] 50 Adam Tanh 32 accuracy on the test set: 0.9200\n",
            "[64] 50 Adam Sigmoid 16 accuracy on the test set: 0.9133\n",
            "[64] 50 Adam Sigmoid 32 accuracy on the test set: 0.9000\n",
            "[64] 50 RMSprop Tanh 16 accuracy on the test set: 0.9233\n",
            "[64] 50 RMSprop Tanh 32 accuracy on the test set: 0.9133\n",
            "[64] 50 RMSprop Sigmoid 16 accuracy on the test set: 0.9300\n",
            "[64] 50 RMSprop Sigmoid 32 accuracy on the test set: 0.8933\n",
            "[64] 100 Adam Tanh 16 accuracy on the test set: 0.9067\n",
            "[64] 100 Adam Tanh 32 accuracy on the test set: 0.9067\n",
            "[64] 100 Adam Sigmoid 16 accuracy on the test set: 0.9300\n",
            "[64] 100 Adam Sigmoid 32 accuracy on the test set: 0.9100\n",
            "[64] 100 RMSprop Tanh 16 accuracy on the test set: 0.9267\n",
            "[64] 100 RMSprop Tanh 32 accuracy on the test set: 0.9100\n",
            "[64] 100 RMSprop Sigmoid 16 accuracy on the test set: 0.9267\n",
            "[64] 100 RMSprop Sigmoid 32 accuracy on the test set: 0.9167\n",
            "[64] 150 Adam Tanh 16 accuracy on the test set: 0.9133\n",
            "[64] 150 Adam Tanh 32 accuracy on the test set: 0.8967\n",
            "[64] 150 Adam Sigmoid 16 accuracy on the test set: 0.9400\n",
            "New best model:\n",
            "Model Architecture: Accuracy: 0.9400, Width [64],  Depth: 1, Epochs: 150, Optimizer: Adam, Activation Function: Sigmoid, Batch Size: 16\n",
            "[64] 150 Adam Sigmoid 32 accuracy on the test set: 0.9300\n",
            "[64] 150 RMSprop Tanh 16 accuracy on the test set: 0.9067\n",
            "[64] 150 RMSprop Tanh 32 accuracy on the test set: 0.9033\n",
            "[64] 150 RMSprop Sigmoid 16 accuracy on the test set: 0.9233\n",
            "[64] 150 RMSprop Sigmoid 32 accuracy on the test set: 0.9267\n",
            "[64] 25 Adam Tanh 16 accuracy on the test set: 0.9267\n",
            "[64] 25 Adam Tanh 32 accuracy on the test set: 0.9200\n",
            "[64] 25 Adam Sigmoid 16 accuracy on the test set: 0.8867\n",
            "[64] 25 Adam Sigmoid 32 accuracy on the test set: 0.8933\n",
            "[64] 25 RMSprop Tanh 16 accuracy on the test set: 0.9300\n",
            "[64] 25 RMSprop Tanh 32 accuracy on the test set: 0.9167\n",
            "[64] 25 RMSprop Sigmoid 16 accuracy on the test set: 0.8967\n",
            "[64] 25 RMSprop Sigmoid 32 accuracy on the test set: 0.8867\n",
            "[64] 50 Adam Tanh 16 accuracy on the test set: 0.9067\n",
            "[64] 50 Adam Tanh 32 accuracy on the test set: 0.9200\n",
            "[64] 50 Adam Sigmoid 16 accuracy on the test set: 0.9167\n",
            "[64] 50 Adam Sigmoid 32 accuracy on the test set: 0.9000\n",
            "[64] 50 RMSprop Tanh 16 accuracy on the test set: 0.9233\n",
            "[64] 50 RMSprop Tanh 32 accuracy on the test set: 0.9133\n",
            "[64] 50 RMSprop Sigmoid 16 accuracy on the test set: 0.9100\n",
            "[64] 50 RMSprop Sigmoid 32 accuracy on the test set: 0.9100\n",
            "[64] 100 Adam Tanh 16 accuracy on the test set: 0.9200\n",
            "[64] 100 Adam Tanh 32 accuracy on the test set: 0.9233\n",
            "[64] 100 Adam Sigmoid 16 accuracy on the test set: 0.9167\n",
            "[64] 100 Adam Sigmoid 32 accuracy on the test set: 0.9233\n",
            "[64] 100 RMSprop Tanh 16 accuracy on the test set: 0.9233\n",
            "[64] 100 RMSprop Tanh 32 accuracy on the test set: 0.9167\n",
            "[64] 100 RMSprop Sigmoid 16 accuracy on the test set: 0.9200\n",
            "[64] 100 RMSprop Sigmoid 32 accuracy on the test set: 0.9367\n",
            "[64] 150 Adam Tanh 16 accuracy on the test set: 0.8967\n",
            "[64] 150 Adam Tanh 32 accuracy on the test set: 0.9167\n",
            "[64] 150 Adam Sigmoid 16 accuracy on the test set: 0.9167\n",
            "[64] 150 Adam Sigmoid 32 accuracy on the test set: 0.9333\n",
            "[64] 150 RMSprop Tanh 16 accuracy on the test set: 0.9300\n",
            "[64] 150 RMSprop Tanh 32 accuracy on the test set: 0.8933\n",
            "[64] 150 RMSprop Sigmoid 16 accuracy on the test set: 0.9200\n",
            "[64] 150 RMSprop Sigmoid 32 accuracy on the test set: 0.9300\n",
            "[64] 25 Adam Tanh 16 accuracy on the test set: 0.9267\n",
            "[64] 25 Adam Tanh 32 accuracy on the test set: 0.9100\n",
            "[64] 25 Adam Sigmoid 16 accuracy on the test set: 0.9067\n",
            "[64] 25 Adam Sigmoid 32 accuracy on the test set: 0.8933\n",
            "[64] 25 RMSprop Tanh 16 accuracy on the test set: 0.9300\n",
            "[64] 25 RMSprop Tanh 32 accuracy on the test set: 0.9200\n",
            "[64] 25 RMSprop Sigmoid 16 accuracy on the test set: 0.8867\n",
            "[64] 25 RMSprop Sigmoid 32 accuracy on the test set: 0.9000\n",
            "[64] 50 Adam Tanh 16 accuracy on the test set: 0.9200\n",
            "[64] 50 Adam Tanh 32 accuracy on the test set: 0.9133\n",
            "[64] 50 Adam Sigmoid 16 accuracy on the test set: 0.9100\n",
            "[64] 50 Adam Sigmoid 32 accuracy on the test set: 0.9033\n",
            "[64] 50 RMSprop Tanh 16 accuracy on the test set: 0.9200\n",
            "[64] 50 RMSprop Tanh 32 accuracy on the test set: 0.9200\n",
            "[64] 50 RMSprop Sigmoid 16 accuracy on the test set: 0.9167\n",
            "[64] 50 RMSprop Sigmoid 32 accuracy on the test set: 0.9000\n",
            "[64] 100 Adam Tanh 16 accuracy on the test set: 0.9200\n",
            "[64] 100 Adam Tanh 32 accuracy on the test set: 0.9100\n",
            "[64] 100 Adam Sigmoid 16 accuracy on the test set: 0.9133\n",
            "[64] 100 Adam Sigmoid 32 accuracy on the test set: 0.9200\n",
            "[64] 100 RMSprop Tanh 16 accuracy on the test set: 0.9067\n",
            "[64] 100 RMSprop Tanh 32 accuracy on the test set: 0.9200\n",
            "[64] 100 RMSprop Sigmoid 16 accuracy on the test set: 0.9333\n",
            "[64] 100 RMSprop Sigmoid 32 accuracy on the test set: 0.9267\n",
            "[64] 150 Adam Tanh 16 accuracy on the test set: 0.9033\n",
            "[64] 150 Adam Tanh 32 accuracy on the test set: 0.9100\n",
            "[64] 150 Adam Sigmoid 16 accuracy on the test set: 0.9167\n",
            "[64] 150 Adam Sigmoid 32 accuracy on the test set: 0.9233\n",
            "[64] 150 RMSprop Tanh 16 accuracy on the test set: 0.9067\n",
            "[64] 150 RMSprop Tanh 32 accuracy on the test set: 0.9133\n",
            "[64] 150 RMSprop Sigmoid 16 accuracy on the test set: 0.9233\n",
            "[64] 150 RMSprop Sigmoid 32 accuracy on the test set: 0.9233\n",
            "Best model architecture: CustomModel(\n",
            "  (layers): ModuleList(\n",
            "    (0): Linear(in_features=8, out_features=64, bias=True)\n",
            "    (1): Sigmoid()\n",
            "  )\n",
            "  (output): Linear(in_features=64, out_features=1, bias=True)\n",
            "  (sigmoid): Sigmoid()\n",
            ")\n",
            "Best parameters: {'model': CustomModel(\n",
            "  (layers): ModuleList(\n",
            "    (0): Linear(in_features=8, out_features=64, bias=True)\n",
            "    (1): Sigmoid()\n",
            "  )\n",
            "  (output): Linear(in_features=64, out_features=1, bias=True)\n",
            "  (sigmoid): Sigmoid()\n",
            "), 'accuracy': 0.94, 'params': {'width': [64], 'depth': 1, 'epochs': 150, 'optimizer': 'Adam', 'activation_fn': 'Sigmoid', 'batch_size': 16}}\n"
          ]
        }
      ],
      "source": [
        "# Hyperparameter lists\n",
        "widths = [[120], [180, 120, 60], [256, 128, 64], [64]]\n",
        "depths = [1,2,3]\n",
        "epochs = [25, 50, 100, 150]\n",
        "optimizers = [optim.Adam, optim.RMSprop]\n",
        "activation_functions = [nn.Tanh, nn.Sigmoid]\n",
        "batch_sizes = [16, 32]\n",
        "\n",
        "# mappings for activation functions/optimizers\n",
        "activation_fn_map = {\n",
        "    'Tanh': nn.Tanh,\n",
        "    'Sigmoid': nn.Sigmoid\n",
        "}\n",
        "\n",
        "optimizer_map = {\n",
        "    'Adam': optim.Adam,\n",
        "    'RMSprop': optim.RMSprop\n",
        "}\n",
        "\n",
        "# store the best-performing model\n",
        "best_params = {}\n",
        "best_accuracy = 0\n",
        "best_model = None\n",
        "\n",
        "# store top 5 models\n",
        "top_models = []\n",
        "\n",
        "# Loop that iterates through all permutations of hyperparameters\n",
        "for width in widths:\n",
        "    for depth in depths:\n",
        "        for num_epochs in epochs:\n",
        "            for opt in optimizers:\n",
        "                for act_fn_name, act_fn in activation_fn_map.items():\n",
        "                    for batch_size in batch_sizes:\n",
        "                        # Initialize model with current hyperparameters\n",
        "                        model = CustomModel(width[:depth], act_fn)\n",
        "                        optimizer = opt(model.parameters(), lr=0.01)\n",
        "\n",
        "                        # Create a dataloader for training with the current batch size\n",
        "                        train_dataset = torch.utils.data.TensorDataset(X_train, y_train)\n",
        "                        train_loader = torch.utils.data.DataLoader(train_dataset, batch_size=batch_size, shuffle=True)\n",
        "\n",
        "                        # Train the model\n",
        "                        train_model(model, optimizer, train_loader, num_epochs)\n",
        "\n",
        "                        # Validate the model\n",
        "                        accuracy = evaluate_model(model, X_test, y_test)\n",
        "                        print(f'{width[:depth]} {num_epochs} {opt.__name__} {act_fn_name} {batch_size} accuracy on the test set: {accuracy:.4f}')\n",
        "\n",
        "                        # Manage top 5 models\n",
        "                        model_params = {\n",
        "                            'model': model,\n",
        "                            'accuracy': accuracy,\n",
        "                            'params': {\n",
        "                                'width': width[:depth],\n",
        "                                'depth': depth,\n",
        "                                'epochs': num_epochs,\n",
        "                                'optimizer': opt.__name__,\n",
        "                                'activation_fn': act_fn_name,\n",
        "                                'batch_size': batch_size\n",
        "                            }\n",
        "                        }\n",
        "                        # If there are less than 5 models currently stored\n",
        "                        if len(top_models) < 5:\n",
        "                            # Add model and sort top 5\n",
        "                            top_models.append(model_params)\n",
        "                            top_models.sort(key=lambda x: x['accuracy'], reverse=True)\n",
        "                        else:\n",
        "                            # If current model has better accuracy than worst model in top 5\n",
        "                            if accuracy > top_models[-1]['accuracy']:\n",
        "                                # Remove worse model\n",
        "                                top_models.pop()\n",
        "                                # Add new model and sort top 5\n",
        "                                top_models.append(model_params)\n",
        "                                top_models.sort(key=lambda x: x['accuracy'], reverse=True)\n",
        "\n",
        "                        # Update best model info\n",
        "                        if accuracy > best_accuracy:\n",
        "                            best_model = model\n",
        "                            best_accuracy = accuracy\n",
        "                            best_params = model_params\n",
        "                            print(\"New best model:\")\n",
        "                            print_architecture(best_params)\n",
        "\n",
        "print(\"Best model architecture:\", best_model)\n",
        "print(f\"Best parameters: {best_params}\")"
      ]
    },
    {
      "cell_type": "markdown",
      "id": "124605f5-b931-41d9-b6fe-ce589e2b9a67",
      "metadata": {
        "id": "124605f5-b931-41d9-b6fe-ce589e2b9a67"
      },
      "source": [
        "On the basis of running this fine-tuning multiple times, we were able to observe the following:\n",
        "- The highest performance we saw of all the models was at 94.0% accuracy from the following architecture: Accuracy: 0.94, Width [64],  Depth: 1, Epochs: 150, Optimizer: Adam, Activation Function: Sigmoid, Batch Size: 16\n",
        "- We are able to consistently attain an accuracy of 93.3%-94% from at least one model, usually more.\n",
        "- The sigmoid activation functions tend to perform better than the tanh activation function.\n",
        "- Models of depths 1-2 perform better than models of depth 3.\n",
        "- Batch sizes of 16 are consistently better than batch sizes of 32."
      ]
    },
    {
      "cell_type": "code",
      "execution_count": 18,
      "id": "c929f6ae-0a97-4da7-b73d-ea4177fa8d99",
      "metadata": {
        "colab": {
          "base_uri": "https://localhost:8080/"
        },
        "id": "c929f6ae-0a97-4da7-b73d-ea4177fa8d99",
        "outputId": "f7eabddf-dda9-4da8-b18e-0aaa43ecbbed"
      },
      "outputs": [
        {
          "output_type": "stream",
          "name": "stdout",
          "text": [
            "[{'model': CustomModel(\n",
            "  (layers): ModuleList(\n",
            "    (0): Linear(in_features=8, out_features=64, bias=True)\n",
            "    (1): Sigmoid()\n",
            "  )\n",
            "  (output): Linear(in_features=64, out_features=1, bias=True)\n",
            "  (sigmoid): Sigmoid()\n",
            "), 'accuracy': 0.94, 'params': {'width': [64], 'depth': 1, 'epochs': 150, 'optimizer': 'Adam', 'activation_fn': 'Sigmoid', 'batch_size': 16}}, {'model': CustomModel(\n",
            "  (layers): ModuleList(\n",
            "    (0): Linear(in_features=8, out_features=120, bias=True)\n",
            "    (1): Sigmoid()\n",
            "  )\n",
            "  (output): Linear(in_features=120, out_features=1, bias=True)\n",
            "  (sigmoid): Sigmoid()\n",
            "), 'accuracy': 0.9366666666666666, 'params': {'width': [120], 'depth': 1, 'epochs': 100, 'optimizer': 'RMSprop', 'activation_fn': 'Sigmoid', 'batch_size': 32}}, {'model': CustomModel(\n",
            "  (layers): ModuleList(\n",
            "    (0): Linear(in_features=8, out_features=120, bias=True)\n",
            "    (1): Sigmoid()\n",
            "  )\n",
            "  (output): Linear(in_features=120, out_features=1, bias=True)\n",
            "  (sigmoid): Sigmoid()\n",
            "), 'accuracy': 0.9366666666666666, 'params': {'width': [120], 'depth': 1, 'epochs': 150, 'optimizer': 'RMSprop', 'activation_fn': 'Sigmoid', 'batch_size': 32}}, {'model': CustomModel(\n",
            "  (layers): ModuleList(\n",
            "    (0): Linear(in_features=8, out_features=64, bias=True)\n",
            "    (1): Sigmoid()\n",
            "  )\n",
            "  (output): Linear(in_features=64, out_features=1, bias=True)\n",
            "  (sigmoid): Sigmoid()\n",
            "), 'accuracy': 0.9366666666666666, 'params': {'width': [64], 'depth': 2, 'epochs': 100, 'optimizer': 'RMSprop', 'activation_fn': 'Sigmoid', 'batch_size': 32}}, {'model': CustomModel(\n",
            "  (layers): ModuleList(\n",
            "    (0): Linear(in_features=8, out_features=120, bias=True)\n",
            "    (1): Sigmoid()\n",
            "  )\n",
            "  (output): Linear(in_features=120, out_features=1, bias=True)\n",
            "  (sigmoid): Sigmoid()\n",
            "), 'accuracy': 0.9333333333333333, 'params': {'width': [120], 'depth': 2, 'epochs': 100, 'optimizer': 'RMSprop', 'activation_fn': 'Sigmoid', 'batch_size': 32}}]\n"
          ]
        }
      ],
      "source": [
        "# Display the top 5 best-performing models\n",
        "print(top_models)"
      ]
    },
    {
      "cell_type": "markdown",
      "id": "899bd97d-c110-421c-8a1e-1ae8e6639ccb",
      "metadata": {
        "id": "899bd97d-c110-421c-8a1e-1ae8e6639ccb"
      },
      "source": [
        "### Final Iteration\n",
        "Now that we have identified the top 5 best-performing models, we can proceed to finding the final best model. For these top models, we will train each one repeatedly 10 times and average their performance. This approach will help ensure that we identify the most consistently best-performing model and verify that its performance is not just a fluke.\n",
        "\n",
        "*It is important to note that the model's average performance may be relatively lower than its individual performances because a single outlier can have a significant impact on the mean. Therefore, we also consider the standard deviation and the median of the models' performances. The median provides a more accurate representation of the model's performance in the presence of outliers, while the standard deviation offers insights into the model's consistency and variance.*"
      ]
    },
    {
      "cell_type": "code",
      "execution_count": 19,
      "id": "c893372f-a7bd-401f-b846-2702503dab4a",
      "metadata": {
        "colab": {
          "base_uri": "https://localhost:8080/"
        },
        "id": "c893372f-a7bd-401f-b846-2702503dab4a",
        "outputId": "1f142474-609e-45a0-8033-4666ec473e0d"
      },
      "outputs": [
        {
          "output_type": "stream",
          "name": "stdout",
          "text": [
            "Model 1 (width: [64], depth: 1, epochs: 150, optimizer: Adam, activation function: Sigmoid, batch size: 16)\n",
            "\tAverage accuracy over 10 runs: 0.9200\n",
            "\tStandard deviation of accuracy: 0.0098\n",
            "\tMedian accuracy over 10 runs: 0.9200\n",
            "Model 2 (width: [120], depth: 1, epochs: 100, optimizer: RMSprop, activation function: Sigmoid, batch size: 32)\n",
            "\tAverage accuracy over 10 runs: 0.9263\n",
            "\tStandard deviation of accuracy: 0.0082\n",
            "\tMedian accuracy over 10 runs: 0.9267\n",
            "Model 3 (width: [120], depth: 1, epochs: 150, optimizer: RMSprop, activation function: Sigmoid, batch size: 32)\n",
            "\tAverage accuracy over 10 runs: 0.9243\n",
            "\tStandard deviation of accuracy: 0.0056\n",
            "\tMedian accuracy over 10 runs: 0.9250\n",
            "Model 4 (width: [64], depth: 2, epochs: 100, optimizer: RMSprop, activation function: Sigmoid, batch size: 32)\n",
            "\tAverage accuracy over 10 runs: 0.9253\n",
            "\tStandard deviation of accuracy: 0.0058\n",
            "\tMedian accuracy over 10 runs: 0.9267\n",
            "Model 5 (width: [120], depth: 2, epochs: 100, optimizer: RMSprop, activation function: Sigmoid, batch size: 32)\n",
            "\tAverage accuracy over 10 runs: 0.9197\n",
            "\tStandard deviation of accuracy: 0.0069\n",
            "\tMedian accuracy over 10 runs: 0.9200\n"
          ]
        }
      ],
      "source": [
        "# Store top 5 models as only their parameters in `top_models`\n",
        "best_avg_acc = 0\n",
        "best_avg_params = {}\n",
        "for index, model_params in enumerate(top_models):\n",
        "    params = model_params['params']\n",
        "    accuracies = []\n",
        "    for _ in range(10):  # Run each model 10 times\n",
        "        # Reinitialize model with the best parameters\n",
        "        activation_fn_instance = activation_fn_map[params['activation_fn']]\n",
        "        optimizer_class = optimizer_map[params['optimizer']]\n",
        "        model = CustomModel(params['width'], activation_fn_instance)\n",
        "        optimizer = optimizer_class(model.parameters(), lr=0.01)\n",
        "\n",
        "        train_dataset = torch.utils.data.TensorDataset(X_train, y_train)\n",
        "        train_loader = torch.utils.data.DataLoader(train_dataset, batch_size=params['batch_size'], shuffle=True)\n",
        "\n",
        "        # Train the model\n",
        "        train_model(model, optimizer, train_loader, params['epochs'])\n",
        "\n",
        "        # Evaluate the model\n",
        "        accuracy = evaluate_model(model, X_test, y_test)\n",
        "        accuracies.append(accuracy)\n",
        "\n",
        "    average_accuracy = np.mean(accuracies)\n",
        "    std_dev_accuracy = np.std(accuracies)\n",
        "    median_accuracy = np.median(accuracies)\n",
        "\n",
        "    if best_avg_acc < average_accuracy:\n",
        "        best_avg_acc = average_accuracy\n",
        "        best_model = model\n",
        "        best_avg_params = {\n",
        "            'model': model,\n",
        "            'accuracy': average_accuracy,\n",
        "            'params': {\n",
        "                'width': params['width'],\n",
        "                'depth': params['depth'],\n",
        "                'epochs': params['epochs'],\n",
        "                'optimizer': params['optimizer'],\n",
        "                'activation_fn': params['activation_fn'],\n",
        "                'batch_size': params['batch_size']\n",
        "            }\n",
        "        }\n",
        "\n",
        "    print(f\"Model {index+1} (width: {params['width']}, depth: {params['depth']}, epochs: {params['epochs']}, optimizer: {params['optimizer']}, activation function: {params['activation_fn']}, batch size: {params['batch_size']})\")\n",
        "    print(f\"\\tAverage accuracy over 10 runs: {average_accuracy:.4f}\")\n",
        "    print(f\"\\tStandard deviation of accuracy: {std_dev_accuracy:.4f}\")\n",
        "    print(f\"\\tMedian accuracy over 10 runs: {median_accuracy:.4f}\")"
      ]
    },
    {
      "cell_type": "markdown",
      "id": "9cb853f3-a31c-4538-bbf8-9a68c14d9fce",
      "metadata": {
        "id": "9cb853f3-a31c-4538-bbf8-9a68c14d9fce"
      },
      "source": [
        "Looking at the output, the model with the highest average accuracy is Model 2, with an accuracy of 92.63%. It is closely followed by Model 3 and Model 4. Models 1 and 5 have both relatively low average and median accuracy, as well as high standard deviation, so we eliminate them from contention. Since Model 4 and Model 3 are closely related, but Model 4 has a higher average and median accuracy with only a 0.0002 increase in standard deviation, we take out Model 3 from contention. Since Model 2 has a higher average accuracy at equal median accuracy with Model 4.\n",
        "\n",
        "Between Models 2 and 4, it is apparent that Model 4 varies slightly less than Model 2, but it has a lower average and median accuracy. Between these two, they are very similar. However, Model 2 performs better in both average and median accuracy, with only a slight difference in standard deviation. Therefore, Model 2 is the clear best-performing model.\n",
        "\n",
        "Now that we have identified the best architecture and hyperparameters, we will evaluate it one last time on the test dataset to assess its final performance."
      ]
    },
    {
      "cell_type": "code",
      "execution_count": 20,
      "id": "ca06f57c-cacf-4816-b2ce-1e0169db9180",
      "metadata": {
        "colab": {
          "base_uri": "https://localhost:8080/"
        },
        "id": "ca06f57c-cacf-4816-b2ce-1e0169db9180",
        "outputId": "828b0843-7ce6-4f4d-da37-3a5f4f377fce"
      },
      "outputs": [
        {
          "output_type": "stream",
          "name": "stdout",
          "text": [
            "Best model parameters: {'model': CustomModel(\n",
            "  (layers): ModuleList(\n",
            "    (0): Linear(in_features=8, out_features=120, bias=True)\n",
            "    (1): Sigmoid()\n",
            "  )\n",
            "  (output): Linear(in_features=120, out_features=1, bias=True)\n",
            "  (sigmoid): Sigmoid()\n",
            "), 'accuracy': 0.9263333333333333, 'params': {'width': [120], 'depth': 1, 'epochs': 100, 'optimizer': 'RMSprop', 'activation_fn': 'Sigmoid', 'batch_size': 32}}\n",
            "Final accuracy of the best model: 0.9233\n"
          ]
        }
      ],
      "source": [
        "# Final evaluation\n",
        "final_accuracy = evaluate_model(best_model, X_test, y_test)\n",
        "\n",
        "print(f\"Best model parameters: {best_avg_params}\")\n",
        "print(f\"Final accuracy of the best model: {final_accuracy:.4f}\")"
      ]
    },
    {
      "cell_type": "markdown",
      "id": "139e0306-a4b2-45cd-b529-91498455e6d9",
      "metadata": {
        "id": "139e0306-a4b2-45cd-b529-91498455e6d9"
      },
      "source": [
        "In order to continue evaluating the performance of our classification model, we are going to use a confusion matrix to break down how well the model is classifying predicted and true labels. This is useful as it can show us how many misclassifications our model has, which is important especially when considering something as important as cancer detection. This can also show us if there are any specific imbalances within our classes."
      ]
    },
    {
      "cell_type": "code",
      "execution_count": 21,
      "id": "5a19b32f-e554-4620-9ed8-af3b3a63820b",
      "metadata": {
        "colab": {
          "base_uri": "https://localhost:8080/"
        },
        "id": "5a19b32f-e554-4620-9ed8-af3b3a63820b",
        "outputId": "96ac7920-2943-4af9-d49c-414968112bce"
      },
      "outputs": [
        {
          "output_type": "stream",
          "name": "stdout",
          "text": [
            "Confusion Matrix:\n",
            "[[176   8]\n",
            " [ 15 101]]\n"
          ]
        }
      ],
      "source": [
        "best_model.eval()\n",
        "with torch.no_grad():\n",
        "    # forward pass\n",
        "    outputs = best_model(X_test)\n",
        "    predicted = (outputs > 0.5).int().squeeze()\n",
        "\n",
        "predicted = predicted.numpy()\n",
        "cm = confusion_matrix(y_test, predicted)\n",
        "print(\"Confusion Matrix:\")\n",
        "print(cm)"
      ]
    },
    {
      "cell_type": "markdown",
      "id": "c84e6dda-2275-4d3a-b637-d374f0f65f29",
      "metadata": {
        "id": "c84e6dda-2275-4d3a-b637-d374f0f65f29"
      },
      "source": [
        "In order to get a better visual, we will plot the confusion matrix."
      ]
    },
    {
      "cell_type": "code",
      "execution_count": 22,
      "id": "d8bcf521-902f-4950-b1ce-d3f4bc52ec93",
      "metadata": {
        "colab": {
          "base_uri": "https://localhost:8080/",
          "height": 564
        },
        "id": "d8bcf521-902f-4950-b1ce-d3f4bc52ec93",
        "outputId": "4f7c4420-95e8-4e29-d013-06e1aeac0f7a"
      },
      "outputs": [
        {
          "output_type": "display_data",
          "data": {
            "text/plain": [
              "<Figure size 800x600 with 2 Axes>"
            ],
            "image/png": "[encoded data removed]"
          },
          "metadata": {}
        }
      ],
      "source": [
        "# confusion matrix\n",
        "plt.figure(figsize=(8, 6))\n",
        "sns.heatmap(cm, annot=True, fmt='d', cmap='Blues', xticklabels=['Class 0', 'Class 1'], yticklabels=['Class 0', 'Class 1'])\n",
        "plt.xlabel('Predicted')\n",
        "plt.ylabel('Actual')\n",
        "plt.title('Confusion Matrix')\n",
        "plt.show()"
      ]
    },
    {
      "cell_type": "markdown",
      "id": "c54f7d69-069e-43e8-b9c0-a35e2e6a084d",
      "metadata": {
        "id": "c54f7d69-069e-43e8-b9c0-a35e2e6a084d"
      },
      "source": [
        "According to the confusion matrix, our  model is performing relatively well. It has both a high true positive (101) and true negative (176) classification rate. There seems to be a similar rate of misclassification between the false positives and false negatives, at 8/109 and 15/191. On the basis of the confusion matrix, we can theoretically calculate the precision, recall, f1 score, and accuracy, however, instead, we can use the classification report to find that information."
      ]
    },
    {
      "cell_type": "code",
      "execution_count": 23,
      "id": "daeddb1d-fa89-4bea-8904-ce5482d08cc5",
      "metadata": {
        "colab": {
          "base_uri": "https://localhost:8080/"
        },
        "id": "daeddb1d-fa89-4bea-8904-ce5482d08cc5",
        "outputId": "5227f823-cd2b-4750-ad05-1ccaf1c1cb48"
      },
      "outputs": [
        {
          "output_type": "stream",
          "name": "stdout",
          "text": [
            "Classification Report:\n",
            "              precision    recall  f1-score   support\n",
            "\n",
            "     Class 0       0.92      0.96      0.94       184\n",
            "     Class 1       0.93      0.87      0.90       116\n",
            "\n",
            "    accuracy                           0.92       300\n",
            "   macro avg       0.92      0.91      0.92       300\n",
            "weighted avg       0.92      0.92      0.92       300\n",
            "\n"
          ]
        }
      ],
      "source": [
        "# classification report\n",
        "report = classification_report(y_test, predicted, target_names=['Class 0', 'Class 1'])\n",
        "print(\"Classification Report:\")\n",
        "print(report)"
      ]
    },
    {
      "cell_type": "markdown",
      "id": "5a4f84ca-eda7-49ac-8b01-18d4ad0ca7ff",
      "metadata": {
        "id": "5a4f84ca-eda7-49ac-8b01-18d4ad0ca7ff"
      },
      "source": [
        "# Conclusion"
      ]
    },
    {
      "cell_type": "markdown",
      "id": "23b0f8a7-78d3-49d6-81b9-3f2c2ed629f3",
      "metadata": {
        "id": "23b0f8a7-78d3-49d6-81b9-3f2c2ed629f3"
      },
      "source": [
        "Overall, our model  outperforms the baseline established by previous models, achieving an impressive average performance of 93%. For Class 0, which indicates the absence of cancer, the model exhibits both high precision and recall. This demonstrates its effectiveness in accurately identifying cases where no cancer is present. The high F1-Score further confirms that the model maintains a strong balance between precision and recall for Class 0.\n",
        "\n",
        "For Class 1, which indicates the presence of cancer, the model shows slightly lower recall compared to Class 0 but retains relatively high precision and a strong F1-Score. This suggests that while the model is effective in diagnosing cancer, it may occasionally miss some positive cases. This trade-off between precision and recall is expected given the inherent challenges of the task.\n",
        "\n",
        "In conclusion, the model delivers excellent performance with high overall accuracy and robust evaluations for both classes. It demonstrates effectiveness and reliability, reflecting its capability to generalize well across the test dataset."
      ]
    },
    {
      "cell_type": "code",
      "source": [],
      "metadata": {
        "id": "nfochdqWa8q9"
      },
      "id": "nfochdqWa8q9",
      "execution_count": null,
      "outputs": []
    }
  ],
  "metadata": {
    "kernelspec": {
      "display_name": "Python 3 (ipykernel)",
      "language": "python",
      "name": "python3"
    },
    "language_info": {
      "codemirror_mode": {
        "name": "ipython",
        "version": 3
      },
      "file_extension": ".py",
      "mimetype": "text/x-python",
      "name": "python",
      "nbconvert_exporter": "python",
      "pygments_lexer": "ipython3",
      "version": "3.10.12"
    },
    "colab": {
      "provenance": []
    }
  },
  "nbformat": 4,
  "nbformat_minor": 5
}